{
 "cells": [
  {
   "cell_type": "code",
   "execution_count": 26,
   "metadata": {},
   "outputs": [],
   "source": [
    "import pandas as pd"
   ]
  },
  {
   "cell_type": "code",
   "execution_count": 54,
   "metadata": {},
   "outputs": [],
   "source": [
    "# dataset from GDELT\n",
    "# downloaded using Google BigQuery"
   ]
  },
  {
   "cell_type": "code",
   "execution_count": 27,
   "metadata": {},
   "outputs": [
    {
     "name": "stdout",
     "output_type": "stream",
     "text": [
      "(400, 2)\n"
     ]
    },
    {
     "data": {
      "text/html": [
       "<div>\n",
       "<style scoped>\n",
       "    .dataframe tbody tr th:only-of-type {\n",
       "        vertical-align: middle;\n",
       "    }\n",
       "\n",
       "    .dataframe tbody tr th {\n",
       "        vertical-align: top;\n",
       "    }\n",
       "\n",
       "    .dataframe thead th {\n",
       "        text-align: right;\n",
       "    }\n",
       "</style>\n",
       "<table border=\"1\" class=\"dataframe\">\n",
       "  <thead>\n",
       "    <tr style=\"text-align: right;\">\n",
       "      <th></th>\n",
       "      <th>SOURCEURL</th>\n",
       "      <th>AvgTone</th>\n",
       "    </tr>\n",
       "  </thead>\n",
       "  <tbody>\n",
       "    <tr>\n",
       "      <th>0</th>\n",
       "      <td>http://www.beritasatu.com/politik/500735-demok...</td>\n",
       "      <td>2.639296</td>\n",
       "    </tr>\n",
       "    <tr>\n",
       "      <th>1</th>\n",
       "      <td>http://www.tribunnews.com/nasional/2018/07/13/...</td>\n",
       "      <td>3.846154</td>\n",
       "    </tr>\n",
       "    <tr>\n",
       "      <th>2</th>\n",
       "      <td>http://palembang.tribunnews.com/2018/07/13/but...</td>\n",
       "      <td>2.083333</td>\n",
       "    </tr>\n",
       "    <tr>\n",
       "      <th>3</th>\n",
       "      <td>https://www.merdeka.com/peristiwa/nenek-masayu...</td>\n",
       "      <td>2.830189</td>\n",
       "    </tr>\n",
       "    <tr>\n",
       "      <th>4</th>\n",
       "      <td>https://news.okezone.com/read/2018/07/12/605/1...</td>\n",
       "      <td>12.389381</td>\n",
       "    </tr>\n",
       "  </tbody>\n",
       "</table>\n",
       "</div>"
      ],
      "text/plain": [
       "                                           SOURCEURL    AvgTone\n",
       "0  http://www.beritasatu.com/politik/500735-demok...   2.639296\n",
       "1  http://www.tribunnews.com/nasional/2018/07/13/...   3.846154\n",
       "2  http://palembang.tribunnews.com/2018/07/13/but...   2.083333\n",
       "3  https://www.merdeka.com/peristiwa/nenek-masayu...   2.830189\n",
       "4  https://news.okezone.com/read/2018/07/12/605/1...  12.389381"
      ]
     },
     "execution_count": 27,
     "metadata": {},
     "output_type": "execute_result"
    }
   ],
   "source": [
    "# first dataset (positive sentiment)\n",
    "\n",
    "data_pos = pd.read_csv('dataset/jokowi-positive.csv', delimiter=',', encoding='latin-1')\n",
    "\n",
    "print(data_pos.shape)\n",
    "data_pos.head()"
   ]
  },
  {
   "cell_type": "code",
   "execution_count": 28,
   "metadata": {},
   "outputs": [
    {
     "name": "stdout",
     "output_type": "stream",
     "text": [
      "(400, 2)\n"
     ]
    },
    {
     "data": {
      "text/html": [
       "<div>\n",
       "<style scoped>\n",
       "    .dataframe tbody tr th:only-of-type {\n",
       "        vertical-align: middle;\n",
       "    }\n",
       "\n",
       "    .dataframe tbody tr th {\n",
       "        vertical-align: top;\n",
       "    }\n",
       "\n",
       "    .dataframe thead th {\n",
       "        text-align: right;\n",
       "    }\n",
       "</style>\n",
       "<table border=\"1\" class=\"dataframe\">\n",
       "  <thead>\n",
       "    <tr style=\"text-align: right;\">\n",
       "      <th></th>\n",
       "      <th>SOURCEURL</th>\n",
       "      <th>AvgTone</th>\n",
       "    </tr>\n",
       "  </thead>\n",
       "  <tbody>\n",
       "    <tr>\n",
       "      <th>0</th>\n",
       "      <td>http://www.tribunnews.com/nasional/2018/07/11/...</td>\n",
       "      <td>-2.030457</td>\n",
       "    </tr>\n",
       "    <tr>\n",
       "      <th>1</th>\n",
       "      <td>https://nasional.inilah.com/read/detail/246726...</td>\n",
       "      <td>-3.409091</td>\n",
       "    </tr>\n",
       "    <tr>\n",
       "      <th>2</th>\n",
       "      <td>https://www.viva.co.id/berita/politik/1052993-...</td>\n",
       "      <td>-4.669261</td>\n",
       "    </tr>\n",
       "    <tr>\n",
       "      <th>3</th>\n",
       "      <td>http://www.tribunnews.com/nasional/2018/07/11/...</td>\n",
       "      <td>-2.094241</td>\n",
       "    </tr>\n",
       "    <tr>\n",
       "      <th>4</th>\n",
       "      <td>https://nasional.sindonews.com/read/1320900/12...</td>\n",
       "      <td>-2.521008</td>\n",
       "    </tr>\n",
       "  </tbody>\n",
       "</table>\n",
       "</div>"
      ],
      "text/plain": [
       "                                           SOURCEURL   AvgTone\n",
       "0  http://www.tribunnews.com/nasional/2018/07/11/... -2.030457\n",
       "1  https://nasional.inilah.com/read/detail/246726... -3.409091\n",
       "2  https://www.viva.co.id/berita/politik/1052993-... -4.669261\n",
       "3  http://www.tribunnews.com/nasional/2018/07/11/... -2.094241\n",
       "4  https://nasional.sindonews.com/read/1320900/12... -2.521008"
      ]
     },
     "execution_count": 28,
     "metadata": {},
     "output_type": "execute_result"
    }
   ],
   "source": [
    "#  second dataset (negative sentiment)\n",
    "\n",
    "data_neg = pd.read_csv('dataset/jokowi-negative.csv', delimiter=',', encoding='latin-1')\n",
    "\n",
    "print(data_neg.shape)\n",
    "data_neg.head()"
   ]
  },
  {
   "cell_type": "code",
   "execution_count": 29,
   "metadata": {},
   "outputs": [
    {
     "data": {
      "text/html": [
       "<div>\n",
       "<style scoped>\n",
       "    .dataframe tbody tr th:only-of-type {\n",
       "        vertical-align: middle;\n",
       "    }\n",
       "\n",
       "    .dataframe tbody tr th {\n",
       "        vertical-align: top;\n",
       "    }\n",
       "\n",
       "    .dataframe thead th {\n",
       "        text-align: right;\n",
       "    }\n",
       "</style>\n",
       "<table border=\"1\" class=\"dataframe\">\n",
       "  <thead>\n",
       "    <tr style=\"text-align: right;\">\n",
       "      <th></th>\n",
       "      <th>SOURCEURL</th>\n",
       "      <th>AvgTone</th>\n",
       "    </tr>\n",
       "  </thead>\n",
       "  <tbody>\n",
       "    <tr>\n",
       "      <th>153</th>\n",
       "      <td>https://www.republika.co.id/berita/nasional/um...</td>\n",
       "      <td>-2.508961</td>\n",
       "    </tr>\n",
       "    <tr>\n",
       "      <th>296</th>\n",
       "      <td>http://www.thejakartapost.com/news/2018/01/11/...</td>\n",
       "      <td>-5.000000</td>\n",
       "    </tr>\n",
       "    <tr>\n",
       "      <th>170</th>\n",
       "      <td>http://soloraya.solopos.com/read/20180730/490/...</td>\n",
       "      <td>-6.185567</td>\n",
       "    </tr>\n",
       "    <tr>\n",
       "      <th>23</th>\n",
       "      <td>https://www.republika.co.id/berita/nasional/da...</td>\n",
       "      <td>-2.895753</td>\n",
       "    </tr>\n",
       "    <tr>\n",
       "      <th>165</th>\n",
       "      <td>http://makassar.tribunnews.com/2018/07/30/foto...</td>\n",
       "      <td>-2.209945</td>\n",
       "    </tr>\n",
       "  </tbody>\n",
       "</table>\n",
       "</div>"
      ],
      "text/plain": [
       "                                             SOURCEURL   AvgTone\n",
       "153  https://www.republika.co.id/berita/nasional/um... -2.508961\n",
       "296  http://www.thejakartapost.com/news/2018/01/11/... -5.000000\n",
       "170  http://soloraya.solopos.com/read/20180730/490/... -6.185567\n",
       "23   https://www.republika.co.id/berita/nasional/da... -2.895753\n",
       "165  http://makassar.tribunnews.com/2018/07/30/foto... -2.209945"
      ]
     },
     "execution_count": 29,
     "metadata": {},
     "output_type": "execute_result"
    }
   ],
   "source": [
    "# concat both dataset\n",
    "\n",
    "data = pd.concat([data_pos, data_neg])\n",
    "data.sample(5)"
   ]
  },
  {
   "cell_type": "code",
   "execution_count": 30,
   "metadata": {},
   "outputs": [
    {
     "name": "stdout",
     "output_type": "stream",
     "text": [
      "RangeIndex(start=0, stop=800, step=1)\n"
     ]
    }
   ],
   "source": [
    "data = data.sample(frac=1).reset_index(drop=True)\n",
    "print(data.index)"
   ]
  },
  {
   "cell_type": "code",
   "execution_count": 31,
   "metadata": {},
   "outputs": [
    {
     "name": "stderr",
     "output_type": "stream",
     "text": [
      "C:\\ProgramData\\Anaconda2\\lib\\site-packages\\ipykernel_launcher.py:9: SettingWithCopyWarning: \n",
      "A value is trying to be set on a copy of a slice from a DataFrame\n",
      "\n",
      "See the caveats in the documentation: http://pandas.pydata.org/pandas-docs/stable/indexing.html#indexing-view-versus-copy\n",
      "  if __name__ == '__main__':\n",
      "C:\\ProgramData\\Anaconda2\\lib\\site-packages\\ipykernel_launcher.py:7: SettingWithCopyWarning: \n",
      "A value is trying to be set on a copy of a slice from a DataFrame\n",
      "\n",
      "See the caveats in the documentation: http://pandas.pydata.org/pandas-docs/stable/indexing.html#indexing-view-versus-copy\n",
      "  import sys\n"
     ]
    },
    {
     "data": {
      "text/html": [
       "<div>\n",
       "<style scoped>\n",
       "    .dataframe tbody tr th:only-of-type {\n",
       "        vertical-align: middle;\n",
       "    }\n",
       "\n",
       "    .dataframe tbody tr th {\n",
       "        vertical-align: top;\n",
       "    }\n",
       "\n",
       "    .dataframe thead th {\n",
       "        text-align: right;\n",
       "    }\n",
       "</style>\n",
       "<table border=\"1\" class=\"dataframe\">\n",
       "  <thead>\n",
       "    <tr style=\"text-align: right;\">\n",
       "      <th></th>\n",
       "      <th>SOURCEURL</th>\n",
       "      <th>AvgTone</th>\n",
       "      <th>Sentimen</th>\n",
       "      <th>Sentimen_id</th>\n",
       "    </tr>\n",
       "  </thead>\n",
       "  <tbody>\n",
       "    <tr>\n",
       "      <th>394</th>\n",
       "      <td>https://www.cnnindonesia.com/nasional/20180524...</td>\n",
       "      <td>-4.807692</td>\n",
       "      <td>negative</td>\n",
       "      <td>0</td>\n",
       "    </tr>\n",
       "    <tr>\n",
       "      <th>781</th>\n",
       "      <td>http://manado.tribunnews.com/2018/07/24/jokowi...</td>\n",
       "      <td>6.583072</td>\n",
       "      <td>positive</td>\n",
       "      <td>1</td>\n",
       "    </tr>\n",
       "    <tr>\n",
       "      <th>239</th>\n",
       "      <td>https://www.viva.co.id/berita/nasional/1052813...</td>\n",
       "      <td>5.343511</td>\n",
       "      <td>positive</td>\n",
       "      <td>1</td>\n",
       "    </tr>\n",
       "    <tr>\n",
       "      <th>576</th>\n",
       "      <td>https://www.dw.com/id/kembali-ke-kpk-novel-per...</td>\n",
       "      <td>-5.924855</td>\n",
       "      <td>negative</td>\n",
       "      <td>0</td>\n",
       "    </tr>\n",
       "    <tr>\n",
       "      <th>694</th>\n",
       "      <td>http://kupang.tribunnews.com/2018/08/11/sudah-...</td>\n",
       "      <td>6.666667</td>\n",
       "      <td>positive</td>\n",
       "      <td>1</td>\n",
       "    </tr>\n",
       "    <tr>\n",
       "      <th>693</th>\n",
       "      <td>http://warungkopi.okezone.com/thread/704826385...</td>\n",
       "      <td>-9.302326</td>\n",
       "      <td>negative</td>\n",
       "      <td>0</td>\n",
       "    </tr>\n",
       "    <tr>\n",
       "      <th>214</th>\n",
       "      <td>https://nasional.inilah.com/read/detail/246736...</td>\n",
       "      <td>7.547170</td>\n",
       "      <td>positive</td>\n",
       "      <td>1</td>\n",
       "    </tr>\n",
       "    <tr>\n",
       "      <th>653</th>\n",
       "      <td>https://www.thestar.com.my/news/regional/2018/...</td>\n",
       "      <td>-5.035971</td>\n",
       "      <td>negative</td>\n",
       "      <td>0</td>\n",
       "    </tr>\n",
       "    <tr>\n",
       "      <th>245</th>\n",
       "      <td>http://www.tribunnews.com/nasional/2018/08/13/...</td>\n",
       "      <td>6.493506</td>\n",
       "      <td>positive</td>\n",
       "      <td>1</td>\n",
       "    </tr>\n",
       "    <tr>\n",
       "      <th>71</th>\n",
       "      <td>https://www.merdeka.com/peristiwa/kahiyang-mel...</td>\n",
       "      <td>-3.716216</td>\n",
       "      <td>negative</td>\n",
       "      <td>0</td>\n",
       "    </tr>\n",
       "  </tbody>\n",
       "</table>\n",
       "</div>"
      ],
      "text/plain": [
       "                                             SOURCEURL   AvgTone  Sentimen  \\\n",
       "394  https://www.cnnindonesia.com/nasional/20180524... -4.807692  negative   \n",
       "781  http://manado.tribunnews.com/2018/07/24/jokowi...  6.583072  positive   \n",
       "239  https://www.viva.co.id/berita/nasional/1052813...  5.343511  positive   \n",
       "576  https://www.dw.com/id/kembali-ke-kpk-novel-per... -5.924855  negative   \n",
       "694  http://kupang.tribunnews.com/2018/08/11/sudah-...  6.666667  positive   \n",
       "693  http://warungkopi.okezone.com/thread/704826385... -9.302326  negative   \n",
       "214  https://nasional.inilah.com/read/detail/246736...  7.547170  positive   \n",
       "653  https://www.thestar.com.my/news/regional/2018/... -5.035971  negative   \n",
       "245  http://www.tribunnews.com/nasional/2018/08/13/...  6.493506  positive   \n",
       "71   https://www.merdeka.com/peristiwa/kahiyang-mel... -3.716216  negative   \n",
       "\n",
       "     Sentimen_id  \n",
       "394            0  \n",
       "781            1  \n",
       "239            1  \n",
       "576            0  \n",
       "694            1  \n",
       "693            0  \n",
       "214            1  \n",
       "653            0  \n",
       "245            1  \n",
       "71             0  "
      ]
     },
     "execution_count": 31,
     "metadata": {},
     "output_type": "execute_result"
    }
   ],
   "source": [
    "# add sentiment and sentiment_id columns\n",
    "\n",
    "data['Sentimen'] = \"\"\n",
    "\n",
    "for i in range(len(data['AvgTone'])):\n",
    "    if data['AvgTone'][i] > 0:\n",
    "        data['Sentimen'][i] = \"positive\"\n",
    "    else:\n",
    "        data['Sentimen'][i] = \"negative\"\n",
    "        \n",
    "data['Sentimen_id'] = data['Sentimen'].factorize()[0]\n",
    "\n",
    "data.sample(10)"
   ]
  },
  {
   "cell_type": "code",
   "execution_count": 32,
   "metadata": {},
   "outputs": [
    {
     "name": "stdout",
     "output_type": "stream",
     "text": [
      "Int64Index([0, 1], dtype='int64')\n"
     ]
    }
   ],
   "source": [
    "encoded_data, mapping_index = data['Sentimen_id'].factorize()\n",
    "print(mapping_index)"
   ]
  },
  {
   "cell_type": "code",
   "execution_count": 33,
   "metadata": {},
   "outputs": [
    {
     "name": "stdout",
     "output_type": "stream",
     "text": [
      "http://www.beritajatim.com/politik_pemerintahan/335652/kiai_sepuh:_jokowi_-_cak_imin_perpaduan_nasionalis_religius.html\n",
      "https://www.voaindonesia.com/a/jokowi-tetap-dukung-susi-tenggelamkan-kapal-asing-pencuri-ikan/4203153.html\n",
      "http://www.tribunnews.com/nasional/2018/07/12/jokowi-ingatkan-perwira-tni-polri-tidak-berpolitik-praktis\n",
      "http://www.harianjogja.com/baca/2018/03/23/korupsi-e-ktp-setnov-tuding-2-menteri-terima-duit-jokowi-diproses-saja-905448\n",
      "https://nasional.tempo.co/read/1106164/muhaimin-iskandar-klaim-intensif-bertemu-jokowi-bahas-cawapres\n"
     ]
    }
   ],
   "source": [
    "for i in range(5):\n",
    "    print(data['SOURCEURL'][i])"
   ]
  },
  {
   "cell_type": "code",
   "execution_count": 34,
   "metadata": {},
   "outputs": [
    {
     "name": "stderr",
     "output_type": "stream",
     "text": [
      "C:\\ProgramData\\Anaconda2\\lib\\site-packages\\ipykernel_launcher.py:6: SettingWithCopyWarning: \n",
      "A value is trying to be set on a copy of a slice from a DataFrame\n",
      "\n",
      "See the caveats in the documentation: http://pandas.pydata.org/pandas-docs/stable/indexing.html#indexing-view-versus-copy\n",
      "  \n"
     ]
    },
    {
     "name": "stdout",
     "output_type": "stream",
     "text": [
      "kiai sepuh: jokowi   cak imin perpaduan nasionalis religius\n",
      "jokowi tetap dukung susi tenggelamkan kapal asing pencuri ikan\n",
      "jokowi ingatkan perwira tni polri tidak berpolitik praktis\n",
      "korupsi e ktp setnov tuding 2 menteri terima duit jokowi diproses saja 905448\n",
      "muhaimin iskandar klaim intensif bertemu jokowi bahas cawapres\n"
     ]
    }
   ],
   "source": [
    "# clean sourceurl to readable news headline\n",
    "\n",
    "for i in range(len(data['SOURCEURL'])):\n",
    "    list = data['SOURCEURL'][i].replace('.html','').replace('_',' ').replace('-',' ').split('/')\n",
    "    match = [s for s in list if \"jokowi\" in s]\n",
    "    data['SOURCEURL'][i] = match[0].lower()\n",
    "    \n",
    "for i in range(5):\n",
    "    print(data['SOURCEURL'][i])"
   ]
  },
  {
   "cell_type": "code",
   "execution_count": 35,
   "metadata": {},
   "outputs": [
    {
     "data": {
      "text/html": [
       "<div>\n",
       "<style scoped>\n",
       "    .dataframe tbody tr th:only-of-type {\n",
       "        vertical-align: middle;\n",
       "    }\n",
       "\n",
       "    .dataframe tbody tr th {\n",
       "        vertical-align: top;\n",
       "    }\n",
       "\n",
       "    .dataframe thead th {\n",
       "        text-align: right;\n",
       "    }\n",
       "</style>\n",
       "<table border=\"1\" class=\"dataframe\">\n",
       "  <thead>\n",
       "    <tr style=\"text-align: right;\">\n",
       "      <th></th>\n",
       "      <th>SOURCEURL</th>\n",
       "      <th>AvgTone</th>\n",
       "      <th>Sentimen</th>\n",
       "      <th>Sentimen_id</th>\n",
       "      <th>total_words</th>\n",
       "    </tr>\n",
       "  </thead>\n",
       "  <tbody>\n",
       "    <tr>\n",
       "      <th>0</th>\n",
       "      <td>kiai sepuh: jokowi   cak imin perpaduan nasion...</td>\n",
       "      <td>-4.166667</td>\n",
       "      <td>negative</td>\n",
       "      <td>0</td>\n",
       "      <td>8</td>\n",
       "    </tr>\n",
       "    <tr>\n",
       "      <th>1</th>\n",
       "      <td>jokowi tetap dukung susi tenggelamkan kapal as...</td>\n",
       "      <td>-5.093379</td>\n",
       "      <td>negative</td>\n",
       "      <td>0</td>\n",
       "      <td>9</td>\n",
       "    </tr>\n",
       "    <tr>\n",
       "      <th>2</th>\n",
       "      <td>jokowi ingatkan perwira tni polri tidak berpol...</td>\n",
       "      <td>3.636364</td>\n",
       "      <td>positive</td>\n",
       "      <td>1</td>\n",
       "      <td>8</td>\n",
       "    </tr>\n",
       "    <tr>\n",
       "      <th>3</th>\n",
       "      <td>korupsi e ktp setnov tuding 2 menteri terima d...</td>\n",
       "      <td>-2.729292</td>\n",
       "      <td>negative</td>\n",
       "      <td>0</td>\n",
       "      <td>13</td>\n",
       "    </tr>\n",
       "    <tr>\n",
       "      <th>4</th>\n",
       "      <td>muhaimin iskandar klaim intensif bertemu jokow...</td>\n",
       "      <td>2.230483</td>\n",
       "      <td>positive</td>\n",
       "      <td>1</td>\n",
       "      <td>8</td>\n",
       "    </tr>\n",
       "  </tbody>\n",
       "</table>\n",
       "</div>"
      ],
      "text/plain": [
       "                                           SOURCEURL   AvgTone  Sentimen  \\\n",
       "0  kiai sepuh: jokowi   cak imin perpaduan nasion... -4.166667  negative   \n",
       "1  jokowi tetap dukung susi tenggelamkan kapal as... -5.093379  negative   \n",
       "2  jokowi ingatkan perwira tni polri tidak berpol...  3.636364  positive   \n",
       "3  korupsi e ktp setnov tuding 2 menteri terima d... -2.729292  negative   \n",
       "4  muhaimin iskandar klaim intensif bertemu jokow...  2.230483  positive   \n",
       "\n",
       "   Sentimen_id  total_words  \n",
       "0            0            8  \n",
       "1            0            9  \n",
       "2            1            8  \n",
       "3            0           13  \n",
       "4            1            8  "
      ]
     },
     "execution_count": 35,
     "metadata": {},
     "output_type": "execute_result"
    }
   ],
   "source": [
    "# add new column of total words for headline news (SOURCEURL column)\n",
    "\n",
    "data['total_words'] = data['SOURCEURL'].apply(lambda x: len(x.split()))\n",
    "data.head()"
   ]
  },
  {
   "cell_type": "code",
   "execution_count": 36,
   "metadata": {},
   "outputs": [
    {
     "name": "stdout",
     "output_type": "stream",
     "text": [
      "    words\n",
      "0     ada\n",
      "1  adalah\n",
      "2  adanya\n",
      "3  adapun\n",
      "4    agak\n"
     ]
    }
   ],
   "source": [
    "# removing stopwords\n",
    "\n",
    "stopwords = pd.read_csv('dataset/indonesian-stopwords-complete.txt', sep=' ', header=None)\n",
    "stopwords.columns = ['words']\n",
    "print(stopwords.head())\n",
    "\n",
    "data['SOURCEURL'] = data['SOURCEURL'].apply(lambda x: ' '.join([item for item in x.split() if not (stopwords.isin([item]).any().words)]))"
   ]
  },
  {
   "cell_type": "code",
   "execution_count": 37,
   "metadata": {},
   "outputs": [
    {
     "data": {
      "text/html": [
       "<div>\n",
       "<style scoped>\n",
       "    .dataframe tbody tr th:only-of-type {\n",
       "        vertical-align: middle;\n",
       "    }\n",
       "\n",
       "    .dataframe tbody tr th {\n",
       "        vertical-align: top;\n",
       "    }\n",
       "\n",
       "    .dataframe thead th {\n",
       "        text-align: right;\n",
       "    }\n",
       "</style>\n",
       "<table border=\"1\" class=\"dataframe\">\n",
       "  <thead>\n",
       "    <tr style=\"text-align: right;\">\n",
       "      <th></th>\n",
       "      <th>SOURCEURL</th>\n",
       "      <th>AvgTone</th>\n",
       "      <th>Sentimen</th>\n",
       "      <th>Sentimen_id</th>\n",
       "      <th>total_words</th>\n",
       "      <th>total_words_clean</th>\n",
       "    </tr>\n",
       "  </thead>\n",
       "  <tbody>\n",
       "    <tr>\n",
       "      <th>0</th>\n",
       "      <td>kiai sepuh: jokowi cak imin perpaduan nasional...</td>\n",
       "      <td>-4.166667</td>\n",
       "      <td>negative</td>\n",
       "      <td>0</td>\n",
       "      <td>8</td>\n",
       "      <td>8</td>\n",
       "    </tr>\n",
       "    <tr>\n",
       "      <th>1</th>\n",
       "      <td>jokowi dukung susi tenggelamkan kapal asing pe...</td>\n",
       "      <td>-5.093379</td>\n",
       "      <td>negative</td>\n",
       "      <td>0</td>\n",
       "      <td>9</td>\n",
       "      <td>8</td>\n",
       "    </tr>\n",
       "    <tr>\n",
       "      <th>2</th>\n",
       "      <td>jokowi ingatkan perwira tni polri berpolitik p...</td>\n",
       "      <td>3.636364</td>\n",
       "      <td>positive</td>\n",
       "      <td>1</td>\n",
       "      <td>8</td>\n",
       "      <td>7</td>\n",
       "    </tr>\n",
       "    <tr>\n",
       "      <th>3</th>\n",
       "      <td>korupsi e ktp setnov tuding 2 menteri terima d...</td>\n",
       "      <td>-2.729292</td>\n",
       "      <td>negative</td>\n",
       "      <td>0</td>\n",
       "      <td>13</td>\n",
       "      <td>12</td>\n",
       "    </tr>\n",
       "    <tr>\n",
       "      <th>4</th>\n",
       "      <td>muhaimin iskandar klaim intensif bertemu jokow...</td>\n",
       "      <td>2.230483</td>\n",
       "      <td>positive</td>\n",
       "      <td>1</td>\n",
       "      <td>8</td>\n",
       "      <td>8</td>\n",
       "    </tr>\n",
       "  </tbody>\n",
       "</table>\n",
       "</div>"
      ],
      "text/plain": [
       "                                           SOURCEURL   AvgTone  Sentimen  \\\n",
       "0  kiai sepuh: jokowi cak imin perpaduan nasional... -4.166667  negative   \n",
       "1  jokowi dukung susi tenggelamkan kapal asing pe... -5.093379  negative   \n",
       "2  jokowi ingatkan perwira tni polri berpolitik p...  3.636364  positive   \n",
       "3  korupsi e ktp setnov tuding 2 menteri terima d... -2.729292  negative   \n",
       "4  muhaimin iskandar klaim intensif bertemu jokow...  2.230483  positive   \n",
       "\n",
       "   Sentimen_id  total_words  total_words_clean  \n",
       "0            0            8                  8  \n",
       "1            0            9                  8  \n",
       "2            1            8                  7  \n",
       "3            0           13                 12  \n",
       "4            1            8                  8  "
      ]
     },
     "execution_count": 37,
     "metadata": {},
     "output_type": "execute_result"
    }
   ],
   "source": [
    "# add new column of total words for cleaned headline news (SOURCEURL column)\n",
    "\n",
    "data['total_words_clean'] = data['SOURCEURL'].apply(lambda x: len(x.split()))\n",
    "data.head()"
   ]
  },
  {
   "cell_type": "code",
   "execution_count": 38,
   "metadata": {},
   "outputs": [
    {
     "name": "stdout",
     "output_type": "stream",
     "text": [
      "total_words          7337\n",
      "total_words_clean    6010\n",
      "dtype: int64\n"
     ]
    },
    {
     "data": {
      "image/png": "[encoded data removed]",
      "text/plain": [
       "<matplotlib.figure.Figure at 0x8a13cc0>"
      ]
     },
     "metadata": {},
     "output_type": "display_data"
    }
   ],
   "source": [
    "# check before-after data clean\n",
    "\n",
    "data[['total_words', 'total_words_clean']].sum().plot.bar()\n",
    "print(data[['total_words', 'total_words_clean']].sum())"
   ]
  },
  {
   "cell_type": "code",
   "execution_count": 39,
   "metadata": {},
   "outputs": [
    {
     "name": "stdout",
     "output_type": "stream",
     "text": [
      "negative    400\n",
      "positive    400\n",
      "Name: Sentimen, dtype: int64\n"
     ]
    },
    {
     "data": {
      "image/png": "[encoded data removed]",
      "text/plain": [
       "<matplotlib.figure.Figure at 0x96bf0b8>"
      ]
     },
     "metadata": {},
     "output_type": "display_data"
    }
   ],
   "source": [
    "data['Sentimen'].value_counts().plot.bar()\n",
    "print(data['Sentimen'].value_counts())"
   ]
  },
  {
   "cell_type": "code",
   "execution_count": 40,
   "metadata": {},
   "outputs": [
    {
     "data": {
      "text/html": [
       "<div>\n",
       "<style scoped>\n",
       "    .dataframe tbody tr th:only-of-type {\n",
       "        vertical-align: middle;\n",
       "    }\n",
       "\n",
       "    .dataframe tbody tr th {\n",
       "        vertical-align: top;\n",
       "    }\n",
       "\n",
       "    .dataframe thead th {\n",
       "        text-align: right;\n",
       "    }\n",
       "</style>\n",
       "<table border=\"1\" class=\"dataframe\">\n",
       "  <thead>\n",
       "    <tr style=\"text-align: right;\">\n",
       "      <th></th>\n",
       "      <th>SOURCEURL</th>\n",
       "      <th>Sentimen</th>\n",
       "      <th>Sentimen_id</th>\n",
       "    </tr>\n",
       "  </thead>\n",
       "  <tbody>\n",
       "    <tr>\n",
       "      <th>0</th>\n",
       "      <td>kiai sepuh: jokowi cak imin perpaduan nasional...</td>\n",
       "      <td>negative</td>\n",
       "      <td>0</td>\n",
       "    </tr>\n",
       "    <tr>\n",
       "      <th>1</th>\n",
       "      <td>jokowi dukung susi tenggelamkan kapal asing pe...</td>\n",
       "      <td>negative</td>\n",
       "      <td>0</td>\n",
       "    </tr>\n",
       "    <tr>\n",
       "      <th>2</th>\n",
       "      <td>jokowi ingatkan perwira tni polri berpolitik p...</td>\n",
       "      <td>positive</td>\n",
       "      <td>1</td>\n",
       "    </tr>\n",
       "    <tr>\n",
       "      <th>3</th>\n",
       "      <td>korupsi e ktp setnov tuding 2 menteri terima d...</td>\n",
       "      <td>negative</td>\n",
       "      <td>0</td>\n",
       "    </tr>\n",
       "    <tr>\n",
       "      <th>4</th>\n",
       "      <td>muhaimin iskandar klaim intensif bertemu jokow...</td>\n",
       "      <td>positive</td>\n",
       "      <td>1</td>\n",
       "    </tr>\n",
       "  </tbody>\n",
       "</table>\n",
       "</div>"
      ],
      "text/plain": [
       "                                           SOURCEURL  Sentimen  Sentimen_id\n",
       "0  kiai sepuh: jokowi cak imin perpaduan nasional...  negative            0\n",
       "1  jokowi dukung susi tenggelamkan kapal asing pe...  negative            0\n",
       "2  jokowi ingatkan perwira tni polri berpolitik p...  positive            1\n",
       "3  korupsi e ktp setnov tuding 2 menteri terima d...  negative            0\n",
       "4  muhaimin iskandar klaim intensif bertemu jokow...  positive            1"
      ]
     },
     "execution_count": 40,
     "metadata": {},
     "output_type": "execute_result"
    }
   ],
   "source": [
    "used_col = ['SOURCEURL', 'Sentimen', 'Sentimen_id']\n",
    "data = data[used_col]\n",
    "data.head()"
   ]
  },
  {
   "cell_type": "code",
   "execution_count": 48,
   "metadata": {},
   "outputs": [],
   "source": [
    "sentimen_id_df = data[['Sentimen', 'Sentimen_id']].drop_duplicates().sort_values('Sentimen_id')\n",
    "sentimen_to_id = dict(sentimen_id_df.values)\n",
    "id_to_sentimen = dict(sentimen_id_df[['Sentimen_id', 'Sentimen']].values)"
   ]
  },
  {
   "cell_type": "code",
   "execution_count": 42,
   "metadata": {},
   "outputs": [],
   "source": [
    "# try a model\n",
    "\n",
    "from sklearn.naive_bayes import MultinomialNB\n",
    "from sklearn.model_selection import train_test_split\n",
    "from sklearn.feature_extraction.text import CountVectorizer\n",
    "from sklearn.feature_extraction.text import TfidfTransformer\n",
    "\n",
    "X_train, X_test, y_train, y_test = train_test_split(\n",
    "    data['SOURCEURL'], \n",
    "    data['Sentimen_id'],\n",
    "    random_state=0\n",
    ")\n",
    "\n",
    "count_vect = CountVectorizer()\n",
    "X_train_counts = count_vect.fit_transform(X_train)\n",
    "\n",
    "tfidf_transformer = TfidfTransformer()\n",
    "X_train_tfidf = tfidf_transformer.fit_transform(X_train_counts)\n",
    "\n",
    "clf = MultinomialNB().fit(X_train_tfidf, y_train)"
   ]
  },
  {
   "cell_type": "code",
   "execution_count": 47,
   "metadata": {},
   "outputs": [
    {
     "name": "stdout",
     "output_type": "stream",
     "text": [
      "269    negative\n",
      "Name: Sentimen, dtype: object\n",
      "p98d8m409 remaja ancam tembak jokowi maaf kpai\n",
      "\n",
      "Prediksi: negative\n"
     ]
    }
   ],
   "source": [
    "# predict a sample\n",
    "\n",
    "sample2 = data.sample(1)\n",
    "sentimen = sample2['Sentimen']\n",
    "headline = data['SOURCEURL'][sample2.index[0]]\n",
    "\n",
    "print(sentimen)\n",
    "print(headline)\n",
    "\n",
    "pred = clf.predict(count_vect.transform([headline]))\n",
    "sentimen_id = mapping_index[pred][0]\n",
    "print('\\nPrediksi: %s' % (id_to_sentimen[sentimen_id]))"
   ]
  },
  {
   "cell_type": "markdown",
   "metadata": {},
   "source": [
    "## Find the best model"
   ]
  },
  {
   "cell_type": "code",
   "execution_count": 49,
   "metadata": {},
   "outputs": [
    {
     "data": {
      "text/plain": [
       "(800L, 530L)"
      ]
     },
     "execution_count": 49,
     "metadata": {},
     "output_type": "execute_result"
    }
   ],
   "source": [
    "from sklearn.feature_extraction.text import TfidfVectorizer\n",
    "\n",
    "tfidf = TfidfVectorizer(\n",
    "    sublinear_tf=True,\n",
    "    min_df=5,\n",
    "    norm='l2',\n",
    "    encoding='latin-1',\n",
    "    ngram_range=(1,2),\n",
    "    stop_words='english'\n",
    ")\n",
    "\n",
    "features = tfidf.fit_transform(data['SOURCEURL']).toarray()\n",
    "labels = data['Sentimen_id']\n",
    "\n",
    "features.shape"
   ]
  },
  {
   "cell_type": "code",
   "execution_count": 50,
   "metadata": {},
   "outputs": [
    {
     "data": {
      "image/png": "[encoded data removed]",
      "text/plain": [
       "<matplotlib.figure.Figure at 0xccb3a90>"
      ]
     },
     "metadata": {},
     "output_type": "display_data"
    }
   ],
   "source": [
    "# find the best model\n",
    "\n",
    "from sklearn.linear_model import LogisticRegression\n",
    "from sklearn.ensemble import RandomForestClassifier\n",
    "from sklearn.svm import LinearSVC\n",
    "\n",
    "from sklearn.model_selection import cross_val_score\n",
    "\n",
    "import matplotlib.pyplot as plt\n",
    "\n",
    "models = [\n",
    "    LogisticRegression(random_state=0),\n",
    "    RandomForestClassifier(n_estimators=200,max_depth=3,random_state=0),\n",
    "    LinearSVC(),\n",
    "    MultinomialNB()\n",
    "]\n",
    "\n",
    "CV = 5\n",
    "cv_df = pd.DataFrame(index=range(CV * len(models)))\n",
    "\n",
    "entries = []\n",
    "for model in models:\n",
    "    model_name = model.__class__.__name__\n",
    "    accuracies = cross_val_score(model, features, labels, scoring='accuracy', cv=CV)\n",
    "    \n",
    "    for fold_idx, accuracy in enumerate(accuracies):\n",
    "        entries.append((model_name, fold_idx, accuracy))\n",
    "\n",
    "cv_df = pd.DataFrame(entries, columns=['model_name', 'fold_idx', 'accuracy'])\n",
    "\n",
    "import seaborn as sns\n",
    "\n",
    "sns.boxplot(x='model_name', y='accuracy', data=cv_df)\n",
    "sns.stripplot(x='model_name', y='accuracy', data=cv_df, \n",
    "              size=8, jitter=True, edgecolor=\"gray\", linewidth=2)\n",
    "plt.show()"
   ]
  },
  {
   "cell_type": "code",
   "execution_count": 51,
   "metadata": {},
   "outputs": [
    {
     "data": {
      "text/plain": [
       "model_name\n",
       "LinearSVC                 0.91375\n",
       "LogisticRegression        0.90000\n",
       "MultinomialNB             0.88875\n",
       "RandomForestClassifier    0.78875\n",
       "Name: accuracy, dtype: float64"
      ]
     },
     "execution_count": 51,
     "metadata": {},
     "output_type": "execute_result"
    }
   ],
   "source": [
    "cv_df.groupby('model_name').accuracy.mean()"
   ]
  },
  {
   "cell_type": "code",
   "execution_count": 52,
   "metadata": {},
   "outputs": [
    {
     "data": {
      "image/png": "[encoded data removed]",
      "text/plain": [
       "<matplotlib.figure.Figure at 0xb83f7f0>"
      ]
     },
     "metadata": {},
     "output_type": "display_data"
    }
   ],
   "source": [
    "import seaborn as sns\n",
    "from sklearn.metrics import confusion_matrix\n",
    "\n",
    "model = LinearSVC()\n",
    "X_train, X_test, y_train, y_test, indices_train, indidces_test = train_test_split(features, labels, data.index, test_size=0.33, random_state=0)\n",
    "\n",
    "model.fit(X_train, y_train)\n",
    "y_pred = model.predict(X_test)\n",
    "\n",
    "conf_mat = confusion_matrix(y_test, y_pred)\n",
    "fig, ax = plt.subplots(figsize=(6,6))\n",
    "sns.heatmap(conf_mat, annot=True, fmt='d',\n",
    "            xticklabels=sentimen_id_df['Sentimen'].values,\n",
    "            yticklabels=sentimen_id_df['Sentimen'].values)\n",
    "\n",
    "plt.ylabel('Actual')\n",
    "plt.xlabel('Predict')\n",
    "plt.show()"
   ]
  },
  {
   "cell_type": "code",
   "execution_count": 53,
   "metadata": {},
   "outputs": [
    {
     "name": "stdout",
     "output_type": "stream",
     "text": [
      "             precision    recall  f1-score   support\n",
      "\n",
      "   negative       0.92      0.86      0.89       129\n",
      "   positive       0.87      0.93      0.90       135\n",
      "\n",
      "avg / total       0.90      0.89      0.89       264\n",
      "\n"
     ]
    }
   ],
   "source": [
    "from sklearn import metrics\n",
    "\n",
    "print(metrics.classification_report(y_test, y_pred, target_names=data['Sentimen'].unique()))"
   ]
  },
  {
   "cell_type": "code",
   "execution_count": null,
   "metadata": {},
   "outputs": [],
   "source": []
  }
 ],
 "metadata": {
  "kernelspec": {
   "display_name": "Python 2",
   "language": "python",
   "name": "python2"
  },
  "language_info": {
   "codemirror_mode": {
    "name": "ipython",
    "version": 2
   },
   "file_extension": ".py",
   "mimetype": "text/x-python",
   "name": "python",
   "nbconvert_exporter": "python",
   "pygments_lexer": "ipython2",
   "version": "2.7.14"
  }
 },
 "nbformat": 4,
 "nbformat_minor": 2
}
