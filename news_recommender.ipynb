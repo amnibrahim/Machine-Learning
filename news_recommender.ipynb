{
 "cells": [
  {
   "cell_type": "code",
   "execution_count": 136,
   "metadata": {},
   "outputs": [],
   "source": [
    "import pandas as pd"
   ]
  },
  {
   "cell_type": "code",
   "execution_count": 145,
   "metadata": {},
   "outputs": [
    {
     "name": "stdout",
     "output_type": "stream",
     "text": [
      "(5626, 3)\n",
      "(7580, 3)\n",
      "(5998, 3)\n",
      "(7638, 3)\n"
     ]
    }
   ],
   "source": [
    "data1 = pd.read_csv('dataset/GDELT_CNN/results-20190204-133611_1.csv', delimiter=',', encoding='latin-1')\n",
    "print(data1.shape)\n",
    "data2 = pd.read_csv('dataset/GDELT_CNN/results-20190204-133707_2.csv', delimiter=',', encoding='latin-1')\n",
    "print(data2.shape)\n",
    "data3 = pd.read_csv('dataset/GDELT_CNN/results-20190204-133743_3.csv', delimiter=',', encoding='latin-1')\n",
    "print(data3.shape)\n",
    "data4 = pd.read_csv('dataset/GDELT_CNN/results-20190204-133812_4.csv', delimiter=',', encoding='latin-1')\n",
    "print(data4.shape)"
   ]
  },
  {
   "cell_type": "code",
   "execution_count": 146,
   "metadata": {},
   "outputs": [
    {
     "data": {
      "text/plain": [
       "(26842, 3)"
      ]
     },
     "execution_count": 146,
     "metadata": {},
     "output_type": "execute_result"
    }
   ],
   "source": [
    "data = pd.concat([data1,data2,data3,data4])\n",
    "data.shape"
   ]
  },
  {
   "cell_type": "code",
   "execution_count": 147,
   "metadata": {},
   "outputs": [
    {
     "data": {
      "text/html": [
       "<div>\n",
       "<style scoped>\n",
       "    .dataframe tbody tr th:only-of-type {\n",
       "        vertical-align: middle;\n",
       "    }\n",
       "\n",
       "    .dataframe tbody tr th {\n",
       "        vertical-align: top;\n",
       "    }\n",
       "\n",
       "    .dataframe thead th {\n",
       "        text-align: right;\n",
       "    }\n",
       "</style>\n",
       "<table border=\"1\" class=\"dataframe\">\n",
       "  <thead>\n",
       "    <tr style=\"text-align: right;\">\n",
       "      <th></th>\n",
       "      <th>url</th>\n",
       "      <th>code</th>\n",
       "      <th>year</th>\n",
       "    </tr>\n",
       "  </thead>\n",
       "  <tbody>\n",
       "    <tr>\n",
       "      <th>0</th>\n",
       "      <td>https://www.cnnindonesia.com/gaya-hidup/201803...</td>\n",
       "      <td>10</td>\n",
       "      <td>2018</td>\n",
       "    </tr>\n",
       "    <tr>\n",
       "      <th>1</th>\n",
       "      <td>https://www.cnnindonesia.com/nasional/20180301...</td>\n",
       "      <td>10</td>\n",
       "      <td>2018</td>\n",
       "    </tr>\n",
       "    <tr>\n",
       "      <th>2</th>\n",
       "      <td>https://www.cnnindonesia.com/hiburan/201803011...</td>\n",
       "      <td>10</td>\n",
       "      <td>2018</td>\n",
       "    </tr>\n",
       "    <tr>\n",
       "      <th>3</th>\n",
       "      <td>https://www.cnnindonesia.com/nasional/20180301...</td>\n",
       "      <td>10</td>\n",
       "      <td>2018</td>\n",
       "    </tr>\n",
       "    <tr>\n",
       "      <th>4</th>\n",
       "      <td>https://www.cnnindonesia.com/internasional/201...</td>\n",
       "      <td>10</td>\n",
       "      <td>2018</td>\n",
       "    </tr>\n",
       "  </tbody>\n",
       "</table>\n",
       "</div>"
      ],
      "text/plain": [
       "                                                 url  code  year\n",
       "0  https://www.cnnindonesia.com/gaya-hidup/201803...    10  2018\n",
       "1  https://www.cnnindonesia.com/nasional/20180301...    10  2018\n",
       "2  https://www.cnnindonesia.com/hiburan/201803011...    10  2018\n",
       "3  https://www.cnnindonesia.com/nasional/20180301...    10  2018\n",
       "4  https://www.cnnindonesia.com/internasional/201...    10  2018"
      ]
     },
     "execution_count": 147,
     "metadata": {},
     "output_type": "execute_result"
    }
   ],
   "source": [
    "data.columns = ['url', 'code', 'year']\n",
    "data.head()"
   ]
  },
  {
   "cell_type": "code",
   "execution_count": 148,
   "metadata": {},
   "outputs": [
    {
     "data": {
      "text/plain": [
       "(11923, 26842)"
      ]
     },
     "execution_count": 148,
     "metadata": {},
     "output_type": "execute_result"
    }
   ],
   "source": [
    "len(data['url'].unique()), len(data['url'])"
   ]
  },
  {
   "cell_type": "code",
   "execution_count": 149,
   "metadata": {},
   "outputs": [
    {
     "data": {
      "text/plain": [
       "(11923, 3)"
      ]
     },
     "execution_count": 149,
     "metadata": {},
     "output_type": "execute_result"
    }
   ],
   "source": [
    "data = data.drop_duplicates(subset='url', keep='last')\n",
    "data.shape"
   ]
  },
  {
   "cell_type": "code",
   "execution_count": 150,
   "metadata": {},
   "outputs": [
    {
     "name": "stdout",
     "output_type": "stream",
     "text": [
      "RangeIndex(start=0, stop=11923, step=1)\n"
     ]
    }
   ],
   "source": [
    "data = data.sample(frac=1).reset_index(drop=True)\n",
    "print(data.index)"
   ]
  },
  {
   "cell_type": "code",
   "execution_count": 151,
   "metadata": {},
   "outputs": [
    {
     "name": "stdout",
     "output_type": "stream",
     "text": [
      "(310, 2)\n"
     ]
    },
    {
     "data": {
      "text/html": [
       "<div>\n",
       "<style scoped>\n",
       "    .dataframe tbody tr th:only-of-type {\n",
       "        vertical-align: middle;\n",
       "    }\n",
       "\n",
       "    .dataframe tbody tr th {\n",
       "        vertical-align: top;\n",
       "    }\n",
       "\n",
       "    .dataframe thead th {\n",
       "        text-align: right;\n",
       "    }\n",
       "</style>\n",
       "<table border=\"1\" class=\"dataframe\">\n",
       "  <thead>\n",
       "    <tr style=\"text-align: right;\">\n",
       "      <th></th>\n",
       "      <th>code</th>\n",
       "      <th>description</th>\n",
       "    </tr>\n",
       "  </thead>\n",
       "  <tbody>\n",
       "    <tr>\n",
       "      <th>0</th>\n",
       "      <td>1</td>\n",
       "      <td>MAKE PUBLIC STATEMENT</td>\n",
       "    </tr>\n",
       "    <tr>\n",
       "      <th>1</th>\n",
       "      <td>10</td>\n",
       "      <td>Make statement, not specified below</td>\n",
       "    </tr>\n",
       "    <tr>\n",
       "      <th>2</th>\n",
       "      <td>11</td>\n",
       "      <td>Decline comment</td>\n",
       "    </tr>\n",
       "    <tr>\n",
       "      <th>3</th>\n",
       "      <td>12</td>\n",
       "      <td>Make pessimistic comment</td>\n",
       "    </tr>\n",
       "    <tr>\n",
       "      <th>4</th>\n",
       "      <td>13</td>\n",
       "      <td>Make optimistic comment</td>\n",
       "    </tr>\n",
       "  </tbody>\n",
       "</table>\n",
       "</div>"
      ],
      "text/plain": [
       "   code                          description\n",
       "0     1                MAKE PUBLIC STATEMENT\n",
       "1    10  Make statement, not specified below\n",
       "2    11                      Decline comment\n",
       "3    12             Make pessimistic comment\n",
       "4    13              Make optimistic comment"
      ]
     },
     "execution_count": 151,
     "metadata": {},
     "output_type": "execute_result"
    }
   ],
   "source": [
    "eventcode = pd.read_csv('dataset/GDELT_CNN/eventcodes.csv', sep=',')\n",
    "eventcode.columns = ['code', 'description']\n",
    "print(eventcode.shape)\n",
    "eventcode.head(5)"
   ]
  },
  {
   "cell_type": "code",
   "execution_count": 158,
   "metadata": {},
   "outputs": [
    {
     "name": "stderr",
     "output_type": "stream",
     "text": [
      "C:\\ProgramData\\Anaconda2\\lib\\site-packages\\ipykernel_launcher.py:6: SettingWithCopyWarning: \n",
      "A value is trying to be set on a copy of a slice from a DataFrame\n",
      "\n",
      "See the caveats in the documentation: http://pandas.pydata.org/pandas-docs/stable/indexing.html#indexing-view-versus-copy\n",
      "  \n"
     ]
    },
    {
     "data": {
      "text/html": [
       "<div>\n",
       "<style scoped>\n",
       "    .dataframe tbody tr th:only-of-type {\n",
       "        vertical-align: middle;\n",
       "    }\n",
       "\n",
       "    .dataframe tbody tr th {\n",
       "        vertical-align: top;\n",
       "    }\n",
       "\n",
       "    .dataframe thead th {\n",
       "        text-align: right;\n",
       "    }\n",
       "</style>\n",
       "<table border=\"1\" class=\"dataframe\">\n",
       "  <thead>\n",
       "    <tr style=\"text-align: right;\">\n",
       "      <th></th>\n",
       "      <th>url</th>\n",
       "      <th>code</th>\n",
       "      <th>year</th>\n",
       "      <th>description</th>\n",
       "    </tr>\n",
       "  </thead>\n",
       "  <tbody>\n",
       "    <tr>\n",
       "      <th>0</th>\n",
       "      <td>https://www.cnnindonesia.com/ekonomi/201807161...</td>\n",
       "      <td>311</td>\n",
       "      <td>2018</td>\n",
       "      <td>Express intent to cooperate economically</td>\n",
       "    </tr>\n",
       "    <tr>\n",
       "      <th>1</th>\n",
       "      <td>https://www.cnnindonesia.com:443/nasional/2018...</td>\n",
       "      <td>190</td>\n",
       "      <td>2018</td>\n",
       "      <td>Use conventional military force, not specified...</td>\n",
       "    </tr>\n",
       "    <tr>\n",
       "      <th>2</th>\n",
       "      <td>https://www.cnnindonesia.com/nasional/20180614...</td>\n",
       "      <td>173</td>\n",
       "      <td>2018</td>\n",
       "      <td>Arrest, detain, or charge with legal action</td>\n",
       "    </tr>\n",
       "    <tr>\n",
       "      <th>3</th>\n",
       "      <td>https://www.cnnindonesia.com/olahraga/20180528...</td>\n",
       "      <td>111</td>\n",
       "      <td>2018</td>\n",
       "      <td>Criticize or denounce</td>\n",
       "    </tr>\n",
       "    <tr>\n",
       "      <th>4</th>\n",
       "      <td>https://www.cnnindonesia.com/nasional/20180505...</td>\n",
       "      <td>90</td>\n",
       "      <td>2018</td>\n",
       "      <td>Investigate, not specified below</td>\n",
       "    </tr>\n",
       "  </tbody>\n",
       "</table>\n",
       "</div>"
      ],
      "text/plain": [
       "                                                 url  code  year  \\\n",
       "0  https://www.cnnindonesia.com/ekonomi/201807161...   311  2018   \n",
       "1  https://www.cnnindonesia.com:443/nasional/2018...   190  2018   \n",
       "2  https://www.cnnindonesia.com/nasional/20180614...   173  2018   \n",
       "3  https://www.cnnindonesia.com/olahraga/20180528...   111  2018   \n",
       "4  https://www.cnnindonesia.com/nasional/20180505...    90  2018   \n",
       "\n",
       "                                         description  \n",
       "0           Express intent to cooperate economically  \n",
       "1  Use conventional military force, not specified...  \n",
       "2       Arrest, detain, or charge with legal action   \n",
       "3                             Criticize or denounce   \n",
       "4                   Investigate, not specified below  "
      ]
     },
     "execution_count": 158,
     "metadata": {},
     "output_type": "execute_result"
    }
   ],
   "source": [
    "data['description'] = \"\"\n",
    "\n",
    "for i in range(len(data)):\n",
    "    for j in range(len(eventcode)):\n",
    "        if data['code'][i] == eventcode['code'][j]:\n",
    "            data['description'][i] = eventcode['description'][j]\n",
    "            \n",
    "data.head()"
   ]
  },
  {
   "cell_type": "code",
   "execution_count": 161,
   "metadata": {},
   "outputs": [
    {
     "name": "stderr",
     "output_type": "stream",
     "text": [
      "C:\\ProgramData\\Anaconda2\\lib\\site-packages\\ipykernel_launcher.py:4: SettingWithCopyWarning: \n",
      "A value is trying to be set on a copy of a slice from a DataFrame\n",
      "\n",
      "See the caveats in the documentation: http://pandas.pydata.org/pandas-docs/stable/indexing.html#indexing-view-versus-copy\n",
      "  after removing the cwd from sys.path.\n"
     ]
    },
    {
     "data": {
      "text/html": [
       "<div>\n",
       "<style scoped>\n",
       "    .dataframe tbody tr th:only-of-type {\n",
       "        vertical-align: middle;\n",
       "    }\n",
       "\n",
       "    .dataframe tbody tr th {\n",
       "        vertical-align: top;\n",
       "    }\n",
       "\n",
       "    .dataframe thead th {\n",
       "        text-align: right;\n",
       "    }\n",
       "</style>\n",
       "<table border=\"1\" class=\"dataframe\">\n",
       "  <thead>\n",
       "    <tr style=\"text-align: right;\">\n",
       "      <th></th>\n",
       "      <th>url</th>\n",
       "      <th>code</th>\n",
       "      <th>year</th>\n",
       "      <th>description</th>\n",
       "      <th>headline</th>\n",
       "    </tr>\n",
       "  </thead>\n",
       "  <tbody>\n",
       "    <tr>\n",
       "      <th>6695</th>\n",
       "      <td>https://www.cnnindonesia.com/internasional/201...</td>\n",
       "      <td>112</td>\n",
       "      <td>2018</td>\n",
       "      <td>Accuse, not specified below</td>\n",
       "      <td>putin sebut kasus racun di inggris tak masuk akal</td>\n",
       "    </tr>\n",
       "    <tr>\n",
       "      <th>7245</th>\n",
       "      <td>https://www.cnnindonesia.com/internasional/201...</td>\n",
       "      <td>180</td>\n",
       "      <td>2018</td>\n",
       "      <td>Use unconventional violence, not specified below</td>\n",
       "      <td>rusia ke inggris soal serangan racun kalian ak...</td>\n",
       "    </tr>\n",
       "    <tr>\n",
       "      <th>3057</th>\n",
       "      <td>https://www.cnnindonesia.com/internasional/201...</td>\n",
       "      <td>10</td>\n",
       "      <td>2018</td>\n",
       "      <td>DEMAND</td>\n",
       "      <td>vatikan tegaskan larangan hukuman mati tanpa t...</td>\n",
       "    </tr>\n",
       "    <tr>\n",
       "      <th>2044</th>\n",
       "      <td>https://www.cnnindonesia.com/internasional/201...</td>\n",
       "      <td>84</td>\n",
       "      <td>2018</td>\n",
       "      <td>Return, release, not specified below</td>\n",
       "      <td>dubes ri di korea sebut indonesia magnet digit...</td>\n",
       "    </tr>\n",
       "    <tr>\n",
       "      <th>7883</th>\n",
       "      <td>https://www.cnnindonesia.com/gaya-hidup/201802...</td>\n",
       "      <td>61</td>\n",
       "      <td>2018</td>\n",
       "      <td>Cooperate economically</td>\n",
       "      <td>berkunjung ke pabrik bir ramah lingkungan di j...</td>\n",
       "    </tr>\n",
       "  </tbody>\n",
       "</table>\n",
       "</div>"
      ],
      "text/plain": [
       "                                                    url  code  year  \\\n",
       "6695  https://www.cnnindonesia.com/internasional/201...   112  2018   \n",
       "7245  https://www.cnnindonesia.com/internasional/201...   180  2018   \n",
       "3057  https://www.cnnindonesia.com/internasional/201...    10  2018   \n",
       "2044  https://www.cnnindonesia.com/internasional/201...    84  2018   \n",
       "7883  https://www.cnnindonesia.com/gaya-hidup/201802...    61  2018   \n",
       "\n",
       "                                           description  \\\n",
       "6695                       Accuse, not specified below   \n",
       "7245  Use unconventional violence, not specified below   \n",
       "3057                                            DEMAND   \n",
       "2044              Return, release, not specified below   \n",
       "7883                            Cooperate economically   \n",
       "\n",
       "                                               headline  \n",
       "6695  putin sebut kasus racun di inggris tak masuk akal  \n",
       "7245  rusia ke inggris soal serangan racun kalian ak...  \n",
       "3057  vatikan tegaskan larangan hukuman mati tanpa t...  \n",
       "2044  dubes ri di korea sebut indonesia magnet digit...  \n",
       "7883  berkunjung ke pabrik bir ramah lingkungan di j...  "
      ]
     },
     "execution_count": 161,
     "metadata": {},
     "output_type": "execute_result"
    }
   ],
   "source": [
    "data['headline'] = \"\"\n",
    "\n",
    "for i in range(len(data)):\n",
    "    data['headline'][i] = data['url'][i].split('/')[-1].replace('-',' ').lower()\n",
    "    \n",
    "data.sample(5)"
   ]
  },
  {
   "cell_type": "code",
   "execution_count": 163,
   "metadata": {},
   "outputs": [
    {
     "name": "stdout",
     "output_type": "stream",
     "text": [
      "    words\n",
      "0     ada\n",
      "1  adalah\n",
      "2  adanya\n",
      "3  adapun\n",
      "4    agak\n"
     ]
    }
   ],
   "source": [
    "# stopwords\n",
    "\n",
    "stopwords = pd.read_csv('dataset/indonesian-stopwords-complete.txt', delimiter=' ', header=None)\n",
    "stopwords.columns = ['words']\n",
    "print(stopwords.head())\n",
    "\n",
    "data['headline'] = data['headline'].apply(lambda x: ' '.join([item for item in x.split(' ') if not (stopwords.isin([item]).any().words)]))"
   ]
  },
  {
   "cell_type": "code",
   "execution_count": 164,
   "metadata": {},
   "outputs": [
    {
     "data": {
      "text/html": [
       "<div>\n",
       "<style scoped>\n",
       "    .dataframe tbody tr th:only-of-type {\n",
       "        vertical-align: middle;\n",
       "    }\n",
       "\n",
       "    .dataframe tbody tr th {\n",
       "        vertical-align: top;\n",
       "    }\n",
       "\n",
       "    .dataframe thead th {\n",
       "        text-align: right;\n",
       "    }\n",
       "</style>\n",
       "<table border=\"1\" class=\"dataframe\">\n",
       "  <thead>\n",
       "    <tr style=\"text-align: right;\">\n",
       "      <th></th>\n",
       "      <th>url</th>\n",
       "      <th>code</th>\n",
       "      <th>year</th>\n",
       "      <th>description</th>\n",
       "      <th>headline</th>\n",
       "    </tr>\n",
       "  </thead>\n",
       "  <tbody>\n",
       "    <tr>\n",
       "      <th>0</th>\n",
       "      <td>https://www.cnnindonesia.com/ekonomi/201807161...</td>\n",
       "      <td>311</td>\n",
       "      <td>2018</td>\n",
       "      <td>Express intent to cooperate economically</td>\n",
       "      <td>investor berniat beli merpati airlines</td>\n",
       "    </tr>\n",
       "    <tr>\n",
       "      <th>1</th>\n",
       "      <td>https://www.cnnindonesia.com:443/nasional/2018...</td>\n",
       "      <td>190</td>\n",
       "      <td>2018</td>\n",
       "      <td>Use conventional military force, not specified...</td>\n",
       "      <td>tommy soeharto muchdi pr bela pollycarpus gabu...</td>\n",
       "    </tr>\n",
       "    <tr>\n",
       "      <th>2</th>\n",
       "      <td>https://www.cnnindonesia.com/nasional/20180614...</td>\n",
       "      <td>173</td>\n",
       "      <td>2018</td>\n",
       "      <td>Arrest, detain, or charge with legal action</td>\n",
       "      <td>teroris blitar incar target bank gedung pemeri...</td>\n",
       "    </tr>\n",
       "    <tr>\n",
       "      <th>3</th>\n",
       "      <td>https://www.cnnindonesia.com/olahraga/20180528...</td>\n",
       "      <td>111</td>\n",
       "      <td>2018</td>\n",
       "      <td>Criticize or denounce</td>\n",
       "      <td>cederai mohamed salah ramos dianggap tukang jagal</td>\n",
       "    </tr>\n",
       "    <tr>\n",
       "      <th>4</th>\n",
       "      <td>https://www.cnnindonesia.com/nasional/20180505...</td>\n",
       "      <td>90</td>\n",
       "      <td>2018</td>\n",
       "      <td>Investigate, not specified below</td>\n",
       "      <td>mengusir kapal tongkang pembunuh terumbu karan...</td>\n",
       "    </tr>\n",
       "  </tbody>\n",
       "</table>\n",
       "</div>"
      ],
      "text/plain": [
       "                                                 url  code  year  \\\n",
       "0  https://www.cnnindonesia.com/ekonomi/201807161...   311  2018   \n",
       "1  https://www.cnnindonesia.com:443/nasional/2018...   190  2018   \n",
       "2  https://www.cnnindonesia.com/nasional/20180614...   173  2018   \n",
       "3  https://www.cnnindonesia.com/olahraga/20180528...   111  2018   \n",
       "4  https://www.cnnindonesia.com/nasional/20180505...    90  2018   \n",
       "\n",
       "                                         description  \\\n",
       "0           Express intent to cooperate economically   \n",
       "1  Use conventional military force, not specified...   \n",
       "2       Arrest, detain, or charge with legal action    \n",
       "3                             Criticize or denounce    \n",
       "4                   Investigate, not specified below   \n",
       "\n",
       "                                            headline  \n",
       "0             investor berniat beli merpati airlines  \n",
       "1  tommy soeharto muchdi pr bela pollycarpus gabu...  \n",
       "2  teroris blitar incar target bank gedung pemeri...  \n",
       "3  cederai mohamed salah ramos dianggap tukang jagal  \n",
       "4  mengusir kapal tongkang pembunuh terumbu karan...  "
      ]
     },
     "execution_count": 164,
     "metadata": {},
     "output_type": "execute_result"
    }
   ],
   "source": [
    "data.head()"
   ]
  },
  {
   "cell_type": "code",
   "execution_count": 165,
   "metadata": {},
   "outputs": [
    {
     "data": {
      "text/plain": [
       "150"
      ]
     },
     "execution_count": 165,
     "metadata": {},
     "output_type": "execute_result"
    }
   ],
   "source": [
    "len(data['code'].value_counts())"
   ]
  },
  {
   "cell_type": "code",
   "execution_count": 166,
   "metadata": {},
   "outputs": [
    {
     "data": {
      "text/plain": [
       "<matplotlib.axes._subplots.AxesSubplot at 0xe85cb00>"
      ]
     },
     "execution_count": 166,
     "metadata": {},
     "output_type": "execute_result"
    },
    {
     "data": {
      "image/png": "[encoded data removed]",
      "text/plain": [
       "<matplotlib.figure.Figure at 0xe389dd8>"
      ]
     },
     "metadata": {},
     "output_type": "display_data"
    }
   ],
   "source": [
    "data['code'].value_counts()[:50].plot(kind='bar', figsize=(16,4), rot=45)"
   ]
  },
  {
   "cell_type": "code",
   "execution_count": 167,
   "metadata": {},
   "outputs": [],
   "source": [
    "# split\n",
    "\n",
    "from sklearn.utils import shuffle\n",
    "\n",
    "headline = data['headline'].values\n",
    "url = data['url'].values\n",
    "code = data['code'].values\n",
    "code_desc = data['description'].values\n",
    "\n",
    "headline, url, code, code_desc = shuffle(headline, url, code, code_desc, random_state=0)"
   ]
  },
  {
   "cell_type": "code",
   "execution_count": 168,
   "metadata": {},
   "outputs": [
    {
     "data": {
      "text/plain": [
       "array([u'petugas lapas nakal sukamiskin dimutasi jakarta',\n",
       "       u'bom guncang myanmar polisi luka luka',\n",
       "       u'china dampak perang dagang as jangka pendek', ...,\n",
       "       u'jokowi novel polisi jalan',\n",
       "       u'presiden jokowi bantuan ciptakan demam asian games',\n",
       "       u'kbri pencekalan rizieq shihab arab saudi'], dtype=object)"
      ]
     },
     "execution_count": 168,
     "metadata": {},
     "output_type": "execute_result"
    }
   ],
   "source": [
    "headline"
   ]
  },
  {
   "cell_type": "code",
   "execution_count": 169,
   "metadata": {},
   "outputs": [],
   "source": [
    "n = 10\n",
    "\n",
    "X_train_url = url[:-n]\n",
    "X_train_headline = headline[:-n]\n",
    "X_train_code_desc = code_desc[:-n]\n",
    "\n",
    "X_test_url = url[-n:]\n",
    "X_test_headline = headline[-n:]\n",
    "X_test_code_desc = code_desc[-n:]"
   ]
  },
  {
   "cell_type": "code",
   "execution_count": 170,
   "metadata": {},
   "outputs": [],
   "source": [
    "# vectorize \n",
    "\n",
    "from sklearn.feature_extraction.text import TfidfVectorizer\n",
    "\n",
    "vectorizer = TfidfVectorizer()\n",
    "vectorizer.fit(X_train_headline)\n",
    "\n",
    "X_train_tfidf = vectorizer.transform(X_train_headline)\n",
    "X_test_tfidf = vectorizer.transform(X_test_headline)"
   ]
  },
  {
   "cell_type": "code",
   "execution_count": 171,
   "metadata": {},
   "outputs": [
    {
     "name": "stdout",
     "output_type": "stream",
     "text": [
      "(11913, 12171)\n",
      "(10, 12171)\n"
     ]
    }
   ],
   "source": [
    "print(X_train_tfidf.shape)\n",
    "print(X_test_tfidf.shape)"
   ]
  },
  {
   "cell_type": "code",
   "execution_count": 172,
   "metadata": {},
   "outputs": [],
   "source": [
    "import numpy as np\n",
    "\n",
    "def get_recommendation(current_article_index, top_n):\n",
    "    # get tfidf from current article\n",
    "    test_article = X_test_tfidf[current_article_index]\n",
    "    \n",
    "    # get similarity scores\n",
    "    similarity_scores = X_train_tfidf.dot(test_article.toarray().T)\n",
    "    \n",
    "    # get sorted index of similarity scores\n",
    "    sorted_indices = np.argsort(similarity_scores, axis=0)[::-1]\n",
    "    \n",
    "    # get sorted similarity scores\n",
    "    # sorted_sim_scores = similarity_scores[sorted_indices]\n",
    "    \n",
    "    # get current article\n",
    "    current_article = X_test_url[current_article_index].split('/')[-1].replace('-', ' ')\n",
    "    print('current article:\\n%s\\n' % (current_article))\n",
    "    \n",
    "    # get recommendation\n",
    "    print('recommended article:')\n",
    "    top_n_url = X_train_url[sorted_indices[:top_n]]\n",
    "    top_n_code_desc = X_train_code_desc[sorted_indices[:top_n]]\n",
    "    \n",
    "    for i,j in enumerate(top_n_url):\n",
    "        for k,l in enumerate(top_n_url[i]):\n",
    "            print('%i: %s' % (i+1,l.split('/')[-1].replace('-',' ')))\n",
    "            # remove '#' below to add category\n",
    "            # print('category: %s' % (top_n_code_desc[i][0].lower()))\n",
    "            # print('------------------------------------------------------')"
   ]
  },
  {
   "cell_type": "code",
   "execution_count": 173,
   "metadata": {},
   "outputs": [
    {
     "name": "stdout",
     "output_type": "stream",
     "text": [
      "0: 3 ribu personel tni polri amankan doa untuk rizieq di monas\n",
      "1: neraca perdagangan oktober 2018 defisit us 182 miliar\n",
      "2: wasit laga kontroversial di piala dunia 2018 dipulangkan\n",
      "3: anjing shiba inu imut yang jadi magnet turis di kyushu\n",
      "4: gedung putih dan obama dapat kiriman paket ledakan\n",
      "5: turki sebut as bertanggungjawab atas bentrokan di gaza\n",
      "6: pa 212 kami ikuti fatwanya bukan pimpinan mui\n",
      "7: jokowi tanya kasus novel polisi jalan di tempat\n",
      "8: presiden jokowi minta bantuan ciptakan demam asian games\n",
      "9: kbri sebut tak ada pencekalan rizieq shihab di arab saudi\n"
     ]
    }
   ],
   "source": [
    "for i,v in enumerate(X_test_url):\n",
    "    print('%i: %s' % (i,v.split('/')[-1].replace('-',' ')))"
   ]
  },
  {
   "cell_type": "code",
   "execution_count": 175,
   "metadata": {},
   "outputs": [
    {
     "name": "stdout",
     "output_type": "stream",
     "text": [
      "current article:\n",
      "pa 212 kami ikuti fatwanya bukan pimpinan mui\n",
      "\n",
      "recommended article:\n",
      "1: kritik mui pa 212 nilai umat tak berhak maafkan sukmawati\n",
      "2: bukan cuma di jabar pa 212 ingin semua kasus rizieq disetop\n",
      "3: pdip soal pertemuan pa 212 jokowi tidak ada intervensi hukum\n",
      "4: pa 212 akan perjuangkan rizieq shihab jadi capres\n",
      "5: pa 212 berencana kembali gelar aksi bela palestina\n",
      "6: pa 212 tolak ruu dan perppu terorisme\n",
      "7: siapapun presidennya pa 212 mau tetap jadi parlemen jalanan\n",
      "8: amien rais sebut tak ada amplop saat jokowi bertemu pa 212\n",
      "9: pa 212 tantang jokowi pulangkan rizieq shihab sebelum pilpres\n",
      "10: instagram hapus foto rizieq pa 212 salahkan pemerintah\n"
     ]
    }
   ],
   "source": [
    "# get_recommendation(news_index_from_X_test_url, number_of_recommendation)\n",
    "get_recommendation(6, 10)"
   ]
  },
  {
   "cell_type": "markdown",
   "metadata": {},
   "source": [
    "source: https://towardsdatascience.com/content-based-recommender-for-nyt-articles-5a54f57dd531"
   ]
  }
 ],
 "metadata": {
  "kernelspec": {
   "display_name": "Python 2",
   "language": "python",
   "name": "python2"
  },
  "language_info": {
   "codemirror_mode": {
    "name": "ipython",
    "version": 2
   },
   "file_extension": ".py",
   "mimetype": "text/x-python",
   "name": "python",
   "nbconvert_exporter": "python",
   "pygments_lexer": "ipython2",
   "version": "2.7.14"
  }
 },
 "nbformat": 4,
 "nbformat_minor": 2
}
