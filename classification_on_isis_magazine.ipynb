{
 "cells": [
  {
   "cell_type": "code",
   "execution_count": 2,
   "metadata": {},
   "outputs": [],
   "source": [
    "import pandas as pd\n",
    "import matplotlib.pyplot as plt"
   ]
  },
  {
   "cell_type": "code",
   "execution_count": 3,
   "metadata": {},
   "outputs": [
    {
     "data": {
      "text/html": [
       "<div>\n",
       "<style scoped>\n",
       "    .dataframe tbody tr th:only-of-type {\n",
       "        vertical-align: middle;\n",
       "    }\n",
       "\n",
       "    .dataframe tbody tr th {\n",
       "        vertical-align: top;\n",
       "    }\n",
       "\n",
       "    .dataframe thead th {\n",
       "        text-align: right;\n",
       "    }\n",
       "</style>\n",
       "<table border=\"1\" class=\"dataframe\">\n",
       "  <thead>\n",
       "    <tr style=\"text-align: right;\">\n",
       "      <th></th>\n",
       "      <th>Magazine</th>\n",
       "      <th>Issue</th>\n",
       "      <th>Date</th>\n",
       "      <th>Type</th>\n",
       "      <th>Source</th>\n",
       "      <th>Quote</th>\n",
       "      <th>Purpose</th>\n",
       "      <th>Article Name</th>\n",
       "    </tr>\n",
       "  </thead>\n",
       "  <tbody>\n",
       "    <tr>\n",
       "      <th>0</th>\n",
       "      <td>Dabiq</td>\n",
       "      <td>1.0</td>\n",
       "      <td>Jun-14</td>\n",
       "      <td>Jihadist</td>\n",
       "      <td>Abu Mus'ab az-Zarqawi</td>\n",
       "      <td>The spark has been lit here in Iraq, and its h...</td>\n",
       "      <td>Support</td>\n",
       "      <td>First Page</td>\n",
       "    </tr>\n",
       "    <tr>\n",
       "      <th>1</th>\n",
       "      <td>Dabiq</td>\n",
       "      <td>1.0</td>\n",
       "      <td>Jun-14</td>\n",
       "      <td>Hadith</td>\n",
       "      <td>Sahih Muslim</td>\n",
       "      <td>The Hour will not be established until the Ro...</td>\n",
       "      <td>Support</td>\n",
       "      <td>Introduction</td>\n",
       "    </tr>\n",
       "    <tr>\n",
       "      <th>2</th>\n",
       "      <td>Dabiq</td>\n",
       "      <td>1.0</td>\n",
       "      <td>Jun-14</td>\n",
       "      <td>Jihadist</td>\n",
       "      <td>Abu Mus'ab az-Zarqawi</td>\n",
       "      <td>The spark has been lit here in Iraq, and its ...</td>\n",
       "      <td>Support</td>\n",
       "      <td>Introduction</td>\n",
       "    </tr>\n",
       "    <tr>\n",
       "      <th>3</th>\n",
       "      <td>Dabiq</td>\n",
       "      <td>1.0</td>\n",
       "      <td>Jun-14</td>\n",
       "      <td>Jihadist</td>\n",
       "      <td>Abu Bakr al-Baghdadi</td>\n",
       "      <td>O Muslims everywhere, glad tidings to you and...</td>\n",
       "      <td>Support</td>\n",
       "      <td>Khilafah Declared</td>\n",
       "    </tr>\n",
       "    <tr>\n",
       "      <th>4</th>\n",
       "      <td>Dabiq</td>\n",
       "      <td>1.0</td>\n",
       "      <td>Jun-14</td>\n",
       "      <td>Jihadist</td>\n",
       "      <td>Abu Bakr al-Baghdadi</td>\n",
       "      <td>O Ummah of Islam, indeed the world today has ...</td>\n",
       "      <td>Support</td>\n",
       "      <td>The World has Divided into Two Camps</td>\n",
       "    </tr>\n",
       "    <tr>\n",
       "      <th>5</th>\n",
       "      <td>Dabiq</td>\n",
       "      <td>1.0</td>\n",
       "      <td>Jun-14</td>\n",
       "      <td>Jihadist</td>\n",
       "      <td>Abu Bakr al-Baghdadi</td>\n",
       "      <td>Therefore, rush O Muslims to your state. Yes,...</td>\n",
       "      <td>Support</td>\n",
       "      <td>A Call to Hijrah</td>\n",
       "    </tr>\n",
       "    <tr>\n",
       "      <th>6</th>\n",
       "      <td>Dabiq</td>\n",
       "      <td>1.0</td>\n",
       "      <td>Jun-14</td>\n",
       "      <td>Jihadist</td>\n",
       "      <td>Abu Bakr al-Baghdadi</td>\n",
       "      <td>We make a special call to the scholars, fuqah...</td>\n",
       "      <td>Support</td>\n",
       "      <td>A Call to all Muslim Doctors, Engineers, Schol...</td>\n",
       "    </tr>\n",
       "    <tr>\n",
       "      <th>7</th>\n",
       "      <td>Dabiq</td>\n",
       "      <td>1.0</td>\n",
       "      <td>Jun-14</td>\n",
       "      <td>Hadith</td>\n",
       "      <td>Al-Hakim</td>\n",
       "      <td>Abdullah Ibn Amr narrated that the Prophet (s...</td>\n",
       "      <td>Support</td>\n",
       "      <td>The Concept of Imamah (Leadership) is From the...</td>\n",
       "    </tr>\n",
       "  </tbody>\n",
       "</table>\n",
       "</div>"
      ],
      "text/plain": [
       "  Magazine  Issue    Date      Type                 Source  \\\n",
       "0    Dabiq    1.0  Jun-14  Jihadist  Abu Mus'ab az-Zarqawi   \n",
       "1    Dabiq    1.0  Jun-14    Hadith           Sahih Muslim   \n",
       "2    Dabiq    1.0  Jun-14  Jihadist  Abu Mus'ab az-Zarqawi   \n",
       "3    Dabiq    1.0  Jun-14  Jihadist   Abu Bakr al-Baghdadi   \n",
       "4    Dabiq    1.0  Jun-14  Jihadist   Abu Bakr al-Baghdadi   \n",
       "5    Dabiq    1.0  Jun-14  Jihadist   Abu Bakr al-Baghdadi   \n",
       "6    Dabiq    1.0  Jun-14  Jihadist   Abu Bakr al-Baghdadi   \n",
       "7    Dabiq    1.0  Jun-14    Hadith               Al-Hakim   \n",
       "\n",
       "                                               Quote  Purpose  \\\n",
       "0  The spark has been lit here in Iraq, and its h...  Support   \n",
       "1  The Hour will not be established until the Ro...  Support   \n",
       "2  The spark has been lit here in Iraq, and its ...  Support   \n",
       "3  O Muslims everywhere, glad tidings to you and...  Support   \n",
       "4  O Ummah of Islam, indeed the world today has ...  Support   \n",
       "5  Therefore, rush O Muslims to your state. Yes,...  Support   \n",
       "6  We make a special call to the scholars, fuqah...  Support   \n",
       "7  Abdullah Ibn Amr narrated that the Prophet (s...  Support   \n",
       "\n",
       "                                        Article Name  \n",
       "0                                         First Page  \n",
       "1                                       Introduction  \n",
       "2                                       Introduction  \n",
       "3                                  Khilafah Declared  \n",
       "4               The World has Divided into Two Camps  \n",
       "5                                   A Call to Hijrah  \n",
       "6  A Call to all Muslim Doctors, Engineers, Schol...  \n",
       "7  The Concept of Imamah (Leadership) is From the...  "
      ]
     },
     "execution_count": 3,
     "metadata": {},
     "output_type": "execute_result"
    }
   ],
   "source": [
    "data = pd.read_csv('dataset/ISIS_Religious_Texts_v1.csv', delimiter=',', encoding='latin-1')\n",
    "data.head(8)\n",
    "\n",
    "# dataset: https://www.kaggle.com/fifthtribe/isis-religious-texts"
   ]
  },
  {
   "cell_type": "code",
   "execution_count": 182,
   "metadata": {},
   "outputs": [
    {
     "data": {
      "text/plain": [
       "array([u'Dabiq', u'Rumiyah', nan], dtype=object)"
      ]
     },
     "execution_count": 182,
     "metadata": {},
     "output_type": "execute_result"
    }
   ],
   "source": [
    "pd.unique(data.Magazine)"
   ]
  },
  {
   "cell_type": "code",
   "execution_count": 9,
   "metadata": {},
   "outputs": [
    {
     "data": {
      "text/plain": [
       "Dabiq      1481\n",
       "Rumiyah    1203\n",
       "Name: Magazine, dtype: int64"
      ]
     },
     "execution_count": 9,
     "metadata": {},
     "output_type": "execute_result"
    }
   ],
   "source": [
    "data['Magazine'].value_counts()"
   ]
  },
  {
   "cell_type": "code",
   "execution_count": 184,
   "metadata": {},
   "outputs": [
    {
     "data": {
      "text/plain": [
       "1"
      ]
     },
     "execution_count": 184,
     "metadata": {},
     "output_type": "execute_result"
    }
   ],
   "source": [
    "data.Magazine.isna().sum()"
   ]
  },
  {
   "cell_type": "code",
   "execution_count": 185,
   "metadata": {},
   "outputs": [
    {
     "data": {
      "text/html": [
       "<div>\n",
       "<style scoped>\n",
       "    .dataframe tbody tr th:only-of-type {\n",
       "        vertical-align: middle;\n",
       "    }\n",
       "\n",
       "    .dataframe tbody tr th {\n",
       "        vertical-align: top;\n",
       "    }\n",
       "\n",
       "    .dataframe thead th {\n",
       "        text-align: right;\n",
       "    }\n",
       "</style>\n",
       "<table border=\"1\" class=\"dataframe\">\n",
       "  <thead>\n",
       "    <tr style=\"text-align: right;\">\n",
       "      <th></th>\n",
       "      <th>Magazine</th>\n",
       "      <th>Issue</th>\n",
       "      <th>Date</th>\n",
       "      <th>Type</th>\n",
       "      <th>Source</th>\n",
       "      <th>Quote</th>\n",
       "      <th>Purpose</th>\n",
       "      <th>Article Name</th>\n",
       "    </tr>\n",
       "  </thead>\n",
       "  <tbody>\n",
       "    <tr>\n",
       "      <th>2684</th>\n",
       "      <td>NaN</td>\n",
       "      <td>NaN</td>\n",
       "      <td>NaN</td>\n",
       "      <td>NaN</td>\n",
       "      <td>NaN</td>\n",
       "      <td>NaN</td>\n",
       "      <td>NaN</td>\n",
       "      <td>NaN</td>\n",
       "    </tr>\n",
       "  </tbody>\n",
       "</table>\n",
       "</div>"
      ],
      "text/plain": [
       "     Magazine  Issue Date Type Source Quote Purpose Article Name\n",
       "2684      NaN    NaN  NaN  NaN    NaN   NaN     NaN          NaN"
      ]
     },
     "execution_count": 185,
     "metadata": {},
     "output_type": "execute_result"
    }
   ],
   "source": [
    "data[data.Magazine.isna()]"
   ]
  },
  {
   "cell_type": "code",
   "execution_count": 186,
   "metadata": {},
   "outputs": [
    {
     "data": {
      "text/plain": [
       "Magazine           1\n",
       "Issue              1\n",
       "Date               1\n",
       "Type               1\n",
       "Source             5\n",
       "Quote              1\n",
       "Purpose         1851\n",
       "Article Name      37\n",
       "dtype: int64"
      ]
     },
     "execution_count": 186,
     "metadata": {},
     "output_type": "execute_result"
    }
   ],
   "source": [
    "data.isna().sum()"
   ]
  },
  {
   "cell_type": "code",
   "execution_count": 187,
   "metadata": {},
   "outputs": [
    {
     "data": {
      "text/plain": [
       "(2685, 8)"
      ]
     },
     "execution_count": 187,
     "metadata": {},
     "output_type": "execute_result"
    }
   ],
   "source": [
    "data.shape"
   ]
  },
  {
   "cell_type": "code",
   "execution_count": 188,
   "metadata": {},
   "outputs": [
    {
     "data": {
      "text/plain": [
       "(2685, 7)"
      ]
     },
     "execution_count": 188,
     "metadata": {},
     "output_type": "execute_result"
    }
   ],
   "source": [
    "data = data.drop(['Purpose'], axis=1)\n",
    "data.shape"
   ]
  },
  {
   "cell_type": "code",
   "execution_count": 189,
   "metadata": {},
   "outputs": [
    {
     "data": {
      "text/plain": [
       "Magazine         1\n",
       "Issue            1\n",
       "Date             1\n",
       "Type             1\n",
       "Source           5\n",
       "Quote            1\n",
       "Article Name    37\n",
       "dtype: int64"
      ]
     },
     "execution_count": 189,
     "metadata": {},
     "output_type": "execute_result"
    }
   ],
   "source": [
    "data.isna().sum()"
   ]
  },
  {
   "cell_type": "code",
   "execution_count": 190,
   "metadata": {},
   "outputs": [
    {
     "data": {
      "text/html": [
       "<div>\n",
       "<style scoped>\n",
       "    .dataframe tbody tr th:only-of-type {\n",
       "        vertical-align: middle;\n",
       "    }\n",
       "\n",
       "    .dataframe tbody tr th {\n",
       "        vertical-align: top;\n",
       "    }\n",
       "\n",
       "    .dataframe thead th {\n",
       "        text-align: right;\n",
       "    }\n",
       "</style>\n",
       "<table border=\"1\" class=\"dataframe\">\n",
       "  <thead>\n",
       "    <tr style=\"text-align: right;\">\n",
       "      <th></th>\n",
       "      <th>Magazine</th>\n",
       "      <th>Issue</th>\n",
       "      <th>Date</th>\n",
       "      <th>Type</th>\n",
       "      <th>Source</th>\n",
       "      <th>Quote</th>\n",
       "      <th>Article Name</th>\n",
       "    </tr>\n",
       "  </thead>\n",
       "  <tbody>\n",
       "    <tr>\n",
       "      <th>1227</th>\n",
       "      <td>Dabiq</td>\n",
       "      <td>14.0</td>\n",
       "      <td>Apr-16</td>\n",
       "      <td>Qur'an</td>\n",
       "      <td>al-Ahzab 20</td>\n",
       "      <td>{They think the companies have not [yet] withd...</td>\n",
       "      <td>Lessons from the Fitnah of the Mongols</td>\n",
       "    </tr>\n",
       "    <tr>\n",
       "      <th>2109</th>\n",
       "      <td>Rumiyah</td>\n",
       "      <td>3.0</td>\n",
       "      <td>Nov-16</td>\n",
       "      <td>Classical Scholar</td>\n",
       "      <td>Ibn al-Athir</td>\n",
       "      <td>Ibnul-Athir described it, saying, This idol w...</td>\n",
       "      <td>Jihad Through Du'a</td>\n",
       "    </tr>\n",
       "    <tr>\n",
       "      <th>1534</th>\n",
       "      <td>Rumiyah</td>\n",
       "      <td>1.0</td>\n",
       "      <td>Aug-16</td>\n",
       "      <td>Qur'an</td>\n",
       "      <td>al-An'am 115</td>\n",
       "      <td>And the word of your Lord has been fulfilled ...</td>\n",
       "      <td>Interview With the Amir of the Central Office ...</td>\n",
       "    </tr>\n",
       "    <tr>\n",
       "      <th>1066</th>\n",
       "      <td>Dabiq</td>\n",
       "      <td>13.0</td>\n",
       "      <td>Dec-15</td>\n",
       "      <td>Tafsir</td>\n",
       "      <td>al-Qurtubi</td>\n",
       "      <td>In his tafs?r of the aforementioned ?yah, al-Q...</td>\n",
       "      <td>Do They Not Then Reflect on the Quran</td>\n",
       "    </tr>\n",
       "    <tr>\n",
       "      <th>2140</th>\n",
       "      <td>Rumiyah</td>\n",
       "      <td>5.0</td>\n",
       "      <td>Jan-17</td>\n",
       "      <td>Qur'an</td>\n",
       "      <td>al-Ankabut 41</td>\n",
       "      <td>The example of those who take allies other th...</td>\n",
       "      <td>The Syrian Sahwat Shallow Unity and Reliance o...</td>\n",
       "    </tr>\n",
       "    <tr>\n",
       "      <th>2557</th>\n",
       "      <td>Rumiyah</td>\n",
       "      <td>8.0</td>\n",
       "      <td>Apr-17</td>\n",
       "      <td>Qur'an</td>\n",
       "      <td>al-Anbiya 83</td>\n",
       "      <td>Indeed, adversity has touched me, and you are...</td>\n",
       "      <td>Being Blessed with Health and Tested with Illness</td>\n",
       "    </tr>\n",
       "    <tr>\n",
       "      <th>2408</th>\n",
       "      <td>Dabiq</td>\n",
       "      <td>8.0</td>\n",
       "      <td>Mar-15</td>\n",
       "      <td>Unknown</td>\n",
       "      <td>Sharh Sah?h Muslim</td>\n",
       "      <td>Ibn Rajab (rahimahull?h) said, What is meant ...</td>\n",
       "      <td>Irja -The Most Dangerous Bid'ah</td>\n",
       "    </tr>\n",
       "    <tr>\n",
       "      <th>1334</th>\n",
       "      <td>Dabiq</td>\n",
       "      <td>15.0</td>\n",
       "      <td>Jul-16</td>\n",
       "      <td>Qur'an</td>\n",
       "      <td>al-Anbiya 92</td>\n",
       "      <td>Verily a single nation is your nation, and I ...</td>\n",
       "      <td>Words of Sincere Advice</td>\n",
       "    </tr>\n",
       "  </tbody>\n",
       "</table>\n",
       "</div>"
      ],
      "text/plain": [
       "     Magazine  Issue    Date               Type              Source  \\\n",
       "1227    Dabiq   14.0  Apr-16             Qur'an         al-Ahzab 20   \n",
       "2109  Rumiyah    3.0  Nov-16  Classical Scholar        Ibn al-Athir   \n",
       "1534  Rumiyah    1.0  Aug-16             Qur'an        al-An'am 115   \n",
       "1066    Dabiq   13.0  Dec-15             Tafsir          al-Qurtubi   \n",
       "2140  Rumiyah    5.0  Jan-17             Qur'an       al-Ankabut 41   \n",
       "2557  Rumiyah    8.0  Apr-17             Qur'an        al-Anbiya 83   \n",
       "2408    Dabiq    8.0  Mar-15            Unknown  Sharh Sah?h Muslim   \n",
       "1334    Dabiq   15.0  Jul-16             Qur'an        al-Anbiya 92   \n",
       "\n",
       "                                                  Quote  \\\n",
       "1227  {They think the companies have not [yet] withd...   \n",
       "2109  Ibnul-Athir described it, saying, This idol w...   \n",
       "1534  And the word of your Lord has been fulfilled ...   \n",
       "1066  In his tafs?r of the aforementioned ?yah, al-Q...   \n",
       "2140  The example of those who take allies other th...   \n",
       "2557  Indeed, adversity has touched me, and you are...   \n",
       "2408  Ibn Rajab (rahimahull?h) said, What is meant ...   \n",
       "1334  Verily a single nation is your nation, and I ...   \n",
       "\n",
       "                                           Article Name  \n",
       "1227             Lessons from the Fitnah of the Mongols  \n",
       "2109                                 Jihad Through Du'a  \n",
       "1534  Interview With the Amir of the Central Office ...  \n",
       "1066              Do They Not Then Reflect on the Quran  \n",
       "2140  The Syrian Sahwat Shallow Unity and Reliance o...  \n",
       "2557  Being Blessed with Health and Tested with Illness  \n",
       "2408                    Irja -The Most Dangerous Bid'ah  \n",
       "1334                            Words of Sincere Advice  "
      ]
     },
     "execution_count": 190,
     "metadata": {},
     "output_type": "execute_result"
    }
   ],
   "source": [
    "data = data.dropna()\n",
    "data.sample(8)"
   ]
  },
  {
   "cell_type": "code",
   "execution_count": 191,
   "metadata": {},
   "outputs": [
    {
     "data": {
      "text/plain": [
       "array([u\"Abu Mus'ab az-Zarqawi\", u'Sahih Muslim', u'Abu Bakr al-Baghdadi',\n",
       "       ..., u'az-Zukhruf 54', u\"al-A'raf 176\", u'al-Imran 111'],\n",
       "      dtype=object)"
      ]
     },
     "execution_count": 191,
     "metadata": {},
     "output_type": "execute_result"
    }
   ],
   "source": [
    "pd.unique(data.Source)"
   ]
  },
  {
   "cell_type": "code",
   "execution_count": 10,
   "metadata": {},
   "outputs": [
    {
     "data": {
      "text/plain": [
       "<matplotlib.axes._subplots.AxesSubplot at 0xac48278>"
      ]
     },
     "execution_count": 10,
     "metadata": {},
     "output_type": "execute_result"
    },
    {
     "data": {
      "image/png": "[encoded data removed]",
      "text/plain": [
       "<matplotlib.figure.Figure at 0xac30438>"
      ]
     },
     "metadata": {},
     "output_type": "display_data"
    }
   ],
   "source": [
    "data['Source'].hist()"
   ]
  },
  {
   "cell_type": "code",
   "execution_count": 193,
   "metadata": {},
   "outputs": [
    {
     "data": {
      "text/plain": [
       "1142"
      ]
     },
     "execution_count": 193,
     "metadata": {},
     "output_type": "execute_result"
    }
   ],
   "source": [
    "len(pd.unique(data.Source))"
   ]
  },
  {
   "cell_type": "code",
   "execution_count": 194,
   "metadata": {},
   "outputs": [
    {
     "data": {
      "text/plain": [
       "23"
      ]
     },
     "execution_count": 194,
     "metadata": {},
     "output_type": "execute_result"
    }
   ],
   "source": [
    "len(pd.unique(data.Type))"
   ]
  },
  {
   "cell_type": "code",
   "execution_count": 195,
   "metadata": {},
   "outputs": [
    {
     "data": {
      "text/plain": [
       "<matplotlib.axes._subplots.AxesSubplot at 0x202e2e10>"
      ]
     },
     "execution_count": 195,
     "metadata": {},
     "output_type": "execute_result"
    },
    {
     "data": {
      "image/png": "[encoded data removed]",
      "text/plain": [
       "<matplotlib.figure.Figure at 0x1a8fdeb8>"
      ]
     },
     "metadata": {},
     "output_type": "display_data"
    }
   ],
   "source": [
    "data.Type.hist()"
   ]
  },
  {
   "cell_type": "code",
   "execution_count": 12,
   "metadata": {},
   "outputs": [
    {
     "data": {
      "text/plain": [
       "Qur'an                           1011\n",
       "Hadith                            732\n",
       "Classical Scholar                 264\n",
       "Jihadist                          138\n",
       "Tafsir                            105\n",
       "Unknown                            98\n",
       "Media, Politician, or Analyst      77\n",
       "Bible                              62\n",
       "Salaf                              39\n",
       "Sira                               33\n",
       "Hadith Commentary                  30\n",
       "Muslim Historical Figure           28\n",
       "Islamist                           25\n",
       "Religious Scholar                  11\n",
       "Fatwa                               8\n",
       "Shia Scholar                        6\n",
       "Fiqh                                5\n",
       "Contemporary Scholar                4\n",
       "Classical Islamic Scholar           3\n",
       "Christian                           2\n",
       "Western Historical Figure           1\n",
       "Poetry                              1\n",
       "Hadith                              1\n",
       "Name: Type, dtype: int64"
      ]
     },
     "execution_count": 12,
     "metadata": {},
     "output_type": "execute_result"
    }
   ],
   "source": [
    "data['Type'].value_counts()"
   ]
  },
  {
   "cell_type": "code",
   "execution_count": 197,
   "metadata": {},
   "outputs": [
    {
     "data": {
      "text/html": [
       "<div>\n",
       "<style scoped>\n",
       "    .dataframe tbody tr th:only-of-type {\n",
       "        vertical-align: middle;\n",
       "    }\n",
       "\n",
       "    .dataframe tbody tr th {\n",
       "        vertical-align: top;\n",
       "    }\n",
       "\n",
       "    .dataframe thead th {\n",
       "        text-align: right;\n",
       "    }\n",
       "</style>\n",
       "<table border=\"1\" class=\"dataframe\">\n",
       "  <thead>\n",
       "    <tr style=\"text-align: right;\">\n",
       "      <th></th>\n",
       "      <th>Quote</th>\n",
       "      <th>Magazine</th>\n",
       "    </tr>\n",
       "  </thead>\n",
       "  <tbody>\n",
       "    <tr>\n",
       "      <th>167</th>\n",
       "      <td>Allahs Messenger (sallall?hu alayhi wa salla...</td>\n",
       "      <td>Dabiq</td>\n",
       "    </tr>\n",
       "    <tr>\n",
       "      <th>1053</th>\n",
       "      <td>Ibn Umar ? said, It is not right that she sh...</td>\n",
       "      <td>Dabiq</td>\n",
       "    </tr>\n",
       "    <tr>\n",
       "      <th>2228</th>\n",
       "      <td>Ibn Kathir said, [Allah taught him] how to ma...</td>\n",
       "      <td>Rumiyah</td>\n",
       "    </tr>\n",
       "    <tr>\n",
       "      <th>661</th>\n",
       "      <td>Ibn Awn said, I wrote to N?fi, so he wrote ...</td>\n",
       "      <td>Dabiq</td>\n",
       "    </tr>\n",
       "    <tr>\n",
       "      <th>983</th>\n",
       "      <td>{And [mention] when Luqm?n said to his son whi...</td>\n",
       "      <td>Dabiq</td>\n",
       "    </tr>\n",
       "    <tr>\n",
       "      <th>1734</th>\n",
       "      <td>\"Jannah is encircled by harship and the Fire i...</td>\n",
       "      <td>Rumiyah</td>\n",
       "    </tr>\n",
       "    <tr>\n",
       "      <th>2101</th>\n",
       "      <td>Ibn Taymiyyah said, \"The Shari'ah does not rec...</td>\n",
       "      <td>Rumiyah</td>\n",
       "    </tr>\n",
       "    <tr>\n",
       "      <th>1072</th>\n",
       "      <td>{Allah said, Then indeed, it is forbidden to ...</td>\n",
       "      <td>Dabiq</td>\n",
       "    </tr>\n",
       "  </tbody>\n",
       "</table>\n",
       "</div>"
      ],
      "text/plain": [
       "                                                  Quote Magazine\n",
       "167   Allahs Messenger (sallall?hu alayhi wa salla...    Dabiq\n",
       "1053  Ibn Umar ? said, It is not right that she sh...    Dabiq\n",
       "2228  Ibn Kathir said, [Allah taught him] how to ma...  Rumiyah\n",
       "661   Ibn Awn said, I wrote to N?fi, so he wrote ...    Dabiq\n",
       "983   {And [mention] when Luqm?n said to his son whi...    Dabiq\n",
       "1734  \"Jannah is encircled by harship and the Fire i...  Rumiyah\n",
       "2101  Ibn Taymiyyah said, \"The Shari'ah does not rec...  Rumiyah\n",
       "1072  {Allah said, Then indeed, it is forbidden to ...    Dabiq"
      ]
     },
     "execution_count": 197,
     "metadata": {},
     "output_type": "execute_result"
    }
   ],
   "source": [
    "used_col = ['Quote','Magazine']\n",
    "\n",
    "data = data[used_col]\n",
    "data.sample(8)"
   ]
  },
  {
   "cell_type": "code",
   "execution_count": 198,
   "metadata": {},
   "outputs": [
    {
     "data": {
      "text/html": [
       "<div>\n",
       "<style scoped>\n",
       "    .dataframe tbody tr th:only-of-type {\n",
       "        vertical-align: middle;\n",
       "    }\n",
       "\n",
       "    .dataframe tbody tr th {\n",
       "        vertical-align: top;\n",
       "    }\n",
       "\n",
       "    .dataframe thead th {\n",
       "        text-align: right;\n",
       "    }\n",
       "</style>\n",
       "<table border=\"1\" class=\"dataframe\">\n",
       "  <thead>\n",
       "    <tr style=\"text-align: right;\">\n",
       "      <th></th>\n",
       "      <th>Quote</th>\n",
       "      <th>Magazine</th>\n",
       "      <th>Magazine_id</th>\n",
       "    </tr>\n",
       "  </thead>\n",
       "  <tbody>\n",
       "    <tr>\n",
       "      <th>1339</th>\n",
       "      <td>O you who believe, obey Allah and obey the Me...</td>\n",
       "      <td>Dabiq</td>\n",
       "      <td>0</td>\n",
       "    </tr>\n",
       "    <tr>\n",
       "      <th>2037</th>\n",
       "      <td>Ibn Rajab said, The bulk of the scholars hold...</td>\n",
       "      <td>Rumiyah</td>\n",
       "      <td>1</td>\n",
       "    </tr>\n",
       "    <tr>\n",
       "      <th>717</th>\n",
       "      <td>He said, O Ahlus-Sunnah in Iraq ",
       " seek shelte...</td>\n",
       "      <td>Dabiq</td>\n",
       "      <td>0</td>\n",
       "    </tr>\n",
       "    <tr>\n",
       "      <th>659</th>\n",
       "      <td>{And a believing slave-girl is better than a m...</td>\n",
       "      <td>Dabiq</td>\n",
       "      <td>0</td>\n",
       "    </tr>\n",
       "    <tr>\n",
       "      <th>2445</th>\n",
       "      <td>Indeed, Allah does not look to your images an...</td>\n",
       "      <td>Rumiyah</td>\n",
       "      <td>1</td>\n",
       "    </tr>\n",
       "    <tr>\n",
       "      <th>1912</th>\n",
       "      <td>Ibn al-Ath?r said describing the reason it is ...</td>\n",
       "      <td>Dabiq</td>\n",
       "      <td>0</td>\n",
       "    </tr>\n",
       "    <tr>\n",
       "      <th>1692</th>\n",
       "      <td>Abul-Abbas Ibn Taymiyyah ? said, And know  ...</td>\n",
       "      <td>Rumiyah</td>\n",
       "      <td>1</td>\n",
       "    </tr>\n",
       "    <tr>\n",
       "      <th>1586</th>\n",
       "      <td>And Ibn Masud ? said, Knowledge is not an ab...</td>\n",
       "      <td>Rumiyah</td>\n",
       "      <td>1</td>\n",
       "    </tr>\n",
       "  </tbody>\n",
       "</table>\n",
       "</div>"
      ],
      "text/plain": [
       "                                                  Quote Magazine  Magazine_id\n",
       "1339  O you who believe, obey Allah and obey the Me...    Dabiq            0\n",
       "2037  Ibn Rajab said, The bulk of the scholars hold...  Rumiyah            1\n",
       "717   He said, O Ahlus-Sunnah in Iraq ",
       " seek shelte...    Dabiq            0\n",
       "659   {And a believing slave-girl is better than a m...    Dabiq            0\n",
       "2445  Indeed, Allah does not look to your images an...  Rumiyah            1\n",
       "1912  Ibn al-Ath?r said describing the reason it is ...    Dabiq            0\n",
       "1692  Abul-Abbas Ibn Taymiyyah ? said, And know  ...  Rumiyah            1\n",
       "1586  And Ibn Masud ? said, Knowledge is not an ab...  Rumiyah            1"
      ]
     },
     "execution_count": 198,
     "metadata": {},
     "output_type": "execute_result"
    }
   ],
   "source": [
    "data['Magazine_id'] = data['Magazine'].factorize()[0]\n",
    "data.sample(8)"
   ]
  },
  {
   "cell_type": "code",
   "execution_count": 199,
   "metadata": {},
   "outputs": [
    {
     "name": "stdout",
     "output_type": "stream",
     "text": [
      "[0 0 0 ... 1 1 1]\n",
      "Index([u'Dabiq', u'Rumiyah'], dtype='object')\n",
      "(0, u'Dabiq')\n",
      "(1, u'Rumiyah')\n"
     ]
    }
   ],
   "source": [
    "encoding_data, mapping_index = data['Magazine'].factorize()\n",
    "print(encoding_data)\n",
    "print(mapping_index)\n",
    "\n",
    "for i in range(len(mapping_index)):\n",
    "    print(i,mapping_index[i])"
   ]
  },
  {
   "cell_type": "code",
   "execution_count": 200,
   "metadata": {},
   "outputs": [
    {
     "data": {
      "text/plain": [
       "<matplotlib.axes._subplots.AxesSubplot at 0x1f8da470>"
      ]
     },
     "execution_count": 200,
     "metadata": {},
     "output_type": "execute_result"
    },
    {
     "data": {
      "image/png": "[encoded data removed]",
      "text/plain": [
       "<matplotlib.figure.Figure at 0x1f8acbe0>"
      ]
     },
     "metadata": {},
     "output_type": "display_data"
    }
   ],
   "source": [
    "data.groupby(['Magazine'])['Quote'].count().plot.bar()"
   ]
  },
  {
   "cell_type": "code",
   "execution_count": 201,
   "metadata": {},
   "outputs": [
    {
     "data": {
      "text/plain": [
       "(2645L, 3950L)"
      ]
     },
     "execution_count": 201,
     "metadata": {},
     "output_type": "execute_result"
    }
   ],
   "source": [
    "from sklearn.feature_extraction.text import TfidfVectorizer\n",
    "\n",
    "tfidf = TfidfVectorizer(\n",
    "    stop_words='english',\n",
    "    ngram_range=(1,2),\n",
    "    norm='l2',\n",
    "    encoding='latin-1',\n",
    "    min_df=5,\n",
    "    sublinear_tf=True\n",
    ")\n",
    "\n",
    "features = tfidf.fit_transform(data['Quote']).toarray()\n",
    "labels = data['Magazine_id']\n",
    "\n",
    "features.shape"
   ]
  },
  {
   "cell_type": "code",
   "execution_count": 202,
   "metadata": {},
   "outputs": [
    {
     "data": {
      "image/png": "[encoded data removed]",
      "text/plain": [
       "<matplotlib.figure.Figure at 0x1f34b400>"
      ]
     },
     "metadata": {},
     "output_type": "display_data"
    }
   ],
   "source": [
    "# find the best model\n",
    "\n",
    "from sklearn.linear_model import LogisticRegression\n",
    "from sklearn.ensemble import RandomForestClassifier\n",
    "from sklearn.svm import LinearSVC\n",
    "from sklearn.naive_bayes import MultinomialNB\n",
    "\n",
    "from sklearn.model_selection import cross_val_score\n",
    "\n",
    "models = [\n",
    "    LogisticRegression(random_state=0),\n",
    "    RandomForestClassifier(n_estimators=200,max_depth=3,random_state=0),\n",
    "    LinearSVC(),\n",
    "    MultinomialNB()\n",
    "]\n",
    "\n",
    "CV = 5\n",
    "cv_df = pd.DataFrame(index=range(CV * len(models)))\n",
    "\n",
    "entries = []\n",
    "for model in models:\n",
    "    model_name = model.__class__.__name__\n",
    "    accuracies = cross_val_score(model, features, labels, scoring='accuracy', cv=CV)\n",
    "    \n",
    "    for fold_idx, accuracy in enumerate(accuracies):\n",
    "        entries.append((model_name, fold_idx, accuracy))\n",
    "\n",
    "cv_df = pd.DataFrame(entries, columns=['model_name', 'fold_idx', 'accuracy'])\n",
    "\n",
    "import seaborn as sns\n",
    "\n",
    "sns.boxplot(x='model_name', y='accuracy', data=cv_df)\n",
    "sns.stripplot(x='model_name', y='accuracy', data=cv_df, \n",
    "              size=8, jitter=True, edgecolor=\"gray\", linewidth=2)\n",
    "plt.show()"
   ]
  },
  {
   "cell_type": "code",
   "execution_count": 203,
   "metadata": {},
   "outputs": [
    {
     "data": {
      "text/plain": [
       "model_name\n",
       "LogisticRegression        0.773861\n",
       "MultinomialNB             0.768928\n",
       "LinearSVC                 0.758729\n",
       "RandomForestClassifier    0.588299\n",
       "Name: accuracy, dtype: float64"
      ]
     },
     "execution_count": 203,
     "metadata": {},
     "output_type": "execute_result"
    }
   ],
   "source": [
    "cv_df.groupby(['model_name'])['accuracy'].mean().sort_values(ascending=False)"
   ]
  },
  {
   "cell_type": "code",
   "execution_count": 204,
   "metadata": {},
   "outputs": [],
   "source": [
    "from sklearn.model_selection import train_test_split\n",
    "from sklearn.feature_extraction.text import CountVectorizer\n",
    "from sklearn.feature_extraction.text import TfidfTransformer\n",
    "\n",
    "X_train, X_test, y_train, y_test = train_test_split(\n",
    "    data['Quote'], \n",
    "    data['Magazine_id'], \n",
    "    test_size=0.3, \n",
    "    random_state=0\n",
    ")\n",
    "\n",
    "count_vect = CountVectorizer()\n",
    "X_train_counts = count_vect.fit_transform(X_train)\n",
    "\n",
    "tfidf_transfomer = TfidfTransformer()\n",
    "X_train_tfidf = tfidf_transfomer.fit_transform(X_train_counts)\n",
    "\n",
    "clf = LogisticRegression().fit(X_train_tfidf, y_train)"
   ]
  },
  {
   "cell_type": "code",
   "execution_count": 205,
   "metadata": {},
   "outputs": [
    {
     "data": {
      "text/html": [
       "<div>\n",
       "<style scoped>\n",
       "    .dataframe tbody tr th:only-of-type {\n",
       "        vertical-align: middle;\n",
       "    }\n",
       "\n",
       "    .dataframe tbody tr th {\n",
       "        vertical-align: top;\n",
       "    }\n",
       "\n",
       "    .dataframe thead th {\n",
       "        text-align: right;\n",
       "    }\n",
       "</style>\n",
       "<table border=\"1\" class=\"dataframe\">\n",
       "  <thead>\n",
       "    <tr style=\"text-align: right;\">\n",
       "      <th></th>\n",
       "      <th>Quote</th>\n",
       "      <th>Magazine</th>\n",
       "      <th>Magazine_id</th>\n",
       "    </tr>\n",
       "  </thead>\n",
       "  <tbody>\n",
       "    <tr>\n",
       "      <th>1096</th>\n",
       "      <td>As such, it is har?m for the mourning widow to...</td>\n",
       "      <td>Dabiq</td>\n",
       "      <td>0</td>\n",
       "    </tr>\n",
       "    <tr>\n",
       "      <th>928</th>\n",
       "      <td>{Say, Do you await for us except one of the t...</td>\n",
       "      <td>Dabiq</td>\n",
       "      <td>0</td>\n",
       "    </tr>\n",
       "    <tr>\n",
       "      <th>1874</th>\n",
       "      <td>A man asked al-Bara ?, O Abu Umarah! Did you...</td>\n",
       "      <td>Rumiyah</td>\n",
       "      <td>1</td>\n",
       "    </tr>\n",
       "  </tbody>\n",
       "</table>\n",
       "</div>"
      ],
      "text/plain": [
       "                                                  Quote Magazine  Magazine_id\n",
       "1096  As such, it is har?m for the mourning widow to...    Dabiq            0\n",
       "928   {Say, Do you await for us except one of the t...    Dabiq            0\n",
       "1874  A man asked al-Bara ?, O Abu Umarah! Did you...  Rumiyah            1"
      ]
     },
     "execution_count": 205,
     "metadata": {},
     "output_type": "execute_result"
    }
   ],
   "source": [
    "data.sample(3)"
   ]
  },
  {
   "cell_type": "code",
   "execution_count": 208,
   "metadata": {},
   "outputs": [
    {
     "name": "stdout",
     "output_type": "stream",
     "text": [
      "Dabiq\n"
     ]
    }
   ],
   "source": [
    "predict = clf.predict(count_vect.transform([data['Quote'][928]]))\n",
    "\n",
    "print(mapping_index[predict])[0]"
   ]
  },
  {
   "cell_type": "code",
   "execution_count": 209,
   "metadata": {},
   "outputs": [
    {
     "name": "stdout",
     "output_type": "stream",
     "text": [
      "Rumiyah\n"
     ]
    }
   ],
   "source": [
    "predict = clf.predict(count_vect.transform([data['Quote'][1874]]))\n",
    "\n",
    "print(mapping_index[predict])[0]"
   ]
  },
  {
   "cell_type": "code",
   "execution_count": 215,
   "metadata": {},
   "outputs": [
    {
     "data": {
      "text/html": [
       "<div>\n",
       "<style scoped>\n",
       "    .dataframe tbody tr th:only-of-type {\n",
       "        vertical-align: middle;\n",
       "    }\n",
       "\n",
       "    .dataframe tbody tr th {\n",
       "        vertical-align: top;\n",
       "    }\n",
       "\n",
       "    .dataframe thead th {\n",
       "        text-align: right;\n",
       "    }\n",
       "</style>\n",
       "<table border=\"1\" class=\"dataframe\">\n",
       "  <thead>\n",
       "    <tr style=\"text-align: right;\">\n",
       "      <th></th>\n",
       "      <th>Quote</th>\n",
       "      <th>Magazine</th>\n",
       "      <th>Magazine_id</th>\n",
       "    </tr>\n",
       "  </thead>\n",
       "  <tbody>\n",
       "    <tr>\n",
       "      <th>1978</th>\n",
       "      <td>Ibn Umar ? narrated, One of Umars women wo...</td>\n",
       "      <td>Rumiyah</td>\n",
       "      <td>1</td>\n",
       "    </tr>\n",
       "  </tbody>\n",
       "</table>\n",
       "</div>"
      ],
      "text/plain": [
       "                                                  Quote Magazine  Magazine_id\n",
       "1978  Ibn Umar ? narrated, One of Umars women wo...  Rumiyah            1"
      ]
     },
     "execution_count": 215,
     "metadata": {},
     "output_type": "execute_result"
    }
   ],
   "source": [
    "quote = data.sample(1)\n",
    "quote"
   ]
  },
  {
   "cell_type": "code",
   "execution_count": 216,
   "metadata": {},
   "outputs": [
    {
     "name": "stdout",
     "output_type": "stream",
     "text": [
      "Rumiyah\n"
     ]
    }
   ],
   "source": [
    "predict = clf.predict(count_vect.transform([data['Quote'][1978]]))\n",
    "\n",
    "print(mapping_index[predict])[0]"
   ]
  },
  {
   "cell_type": "code",
   "execution_count": 242,
   "metadata": {},
   "outputs": [
    {
     "data": {
      "text/html": [
       "<div>\n",
       "<style scoped>\n",
       "    .dataframe tbody tr th:only-of-type {\n",
       "        vertical-align: middle;\n",
       "    }\n",
       "\n",
       "    .dataframe tbody tr th {\n",
       "        vertical-align: top;\n",
       "    }\n",
       "\n",
       "    .dataframe thead th {\n",
       "        text-align: right;\n",
       "    }\n",
       "</style>\n",
       "<table border=\"1\" class=\"dataframe\">\n",
       "  <thead>\n",
       "    <tr style=\"text-align: right;\">\n",
       "      <th></th>\n",
       "      <th>Quote</th>\n",
       "      <th>Magazine</th>\n",
       "      <th>Magazine_id</th>\n",
       "    </tr>\n",
       "  </thead>\n",
       "  <tbody>\n",
       "    <tr>\n",
       "      <th>0</th>\n",
       "      <td>The spark has been lit here in Iraq, and its h...</td>\n",
       "      <td>Dabiq</td>\n",
       "      <td>0</td>\n",
       "    </tr>\n",
       "    <tr>\n",
       "      <th>1</th>\n",
       "      <td>The Hour will not be established until the Ro...</td>\n",
       "      <td>Dabiq</td>\n",
       "      <td>0</td>\n",
       "    </tr>\n",
       "    <tr>\n",
       "      <th>2</th>\n",
       "      <td>The spark has been lit here in Iraq, and its ...</td>\n",
       "      <td>Dabiq</td>\n",
       "      <td>0</td>\n",
       "    </tr>\n",
       "    <tr>\n",
       "      <th>3</th>\n",
       "      <td>O Muslims everywhere, glad tidings to you and...</td>\n",
       "      <td>Dabiq</td>\n",
       "      <td>0</td>\n",
       "    </tr>\n",
       "    <tr>\n",
       "      <th>4</th>\n",
       "      <td>O Ummah of Islam, indeed the world today has ...</td>\n",
       "      <td>Dabiq</td>\n",
       "      <td>0</td>\n",
       "    </tr>\n",
       "  </tbody>\n",
       "</table>\n",
       "</div>"
      ],
      "text/plain": [
       "                                               Quote Magazine  Magazine_id\n",
       "0  The spark has been lit here in Iraq, and its h...    Dabiq            0\n",
       "1  The Hour will not be established until the Ro...    Dabiq            0\n",
       "2  The spark has been lit here in Iraq, and its ...    Dabiq            0\n",
       "3  O Muslims everywhere, glad tidings to you and...    Dabiq            0\n",
       "4  O Ummah of Islam, indeed the world today has ...    Dabiq            0"
      ]
     },
     "execution_count": 242,
     "metadata": {},
     "output_type": "execute_result"
    }
   ],
   "source": [
    "magazine_id_df = data[['Magazine', 'Magazine_id']].drop_duplicates().sort_values('Magazine_id')\n",
    "magazine_to_id = dict(magazine_id_df.values)\n",
    "id_to_magazine = dict(magazine_id_df[['Magazine_id', 'Magazine']].values)\n",
    "data.head()"
   ]
  },
  {
   "cell_type": "markdown",
   "metadata": {},
   "source": [
    "============================================================"
   ]
  },
  {
   "cell_type": "code",
   "execution_count": 256,
   "metadata": {
    "scrolled": true
   },
   "outputs": [
    {
     "data": {
      "image/png": "[encoded data removed]",
      "text/plain": [
       "<matplotlib.figure.Figure at 0x22446c50>"
      ]
     },
     "metadata": {},
     "output_type": "display_data"
    },
    {
     "name": "stdout",
     "output_type": "stream",
     "text": [
      "accuracy: 0.8339060710194731\n"
     ]
    }
   ],
   "source": [
    "model = LogisticRegression()\n",
    "\n",
    "X_train, X_test, y_train, y_test, indices_train, indices_test = train_test_split(\n",
    "    features, labels, data.index, test_size=0.33, random_state=0\n",
    ")\n",
    "\n",
    "model.fit(X_train, y_train)\n",
    "y_pred = model.predict(X_test)\n",
    "\n",
    "from sklearn.metrics import confusion_matrix\n",
    "import seaborn as sns\n",
    "\n",
    "conf_mat = confusion_matrix(y_test, y_pred)\n",
    "fig, ax = plt.subplots(figsize=(5,5))\n",
    "\n",
    "sns.heatmap(conf_mat, annot=True, fmt='d',\n",
    "            xticklabels=magazine_id_df['Magazine'].values, \n",
    "            yticklabels=magazine_id_df['Magazine'].values)\n",
    "\n",
    "plt.ylabel('Actual')\n",
    "plt.xlabel('Predicted')\n",
    "plt.show()\n",
    "\n",
    "from sklearn.metrics import accuracy_score\n",
    "\n",
    "print('accuracy: %s' % (accuracy_score(y_test, y_pred)))"
   ]
  },
  {
   "cell_type": "markdown",
   "metadata": {},
   "source": [
    "inspired by: https://towardsdatascience.com/multi-class-text-classification-with-scikit-learn-12f1e60e0a9f"
   ]
  }
 ],
 "metadata": {
  "kernelspec": {
   "display_name": "Python 2",
   "language": "python",
   "name": "python2"
  },
  "language_info": {
   "codemirror_mode": {
    "name": "ipython",
    "version": 2
   },
   "file_extension": ".py",
   "mimetype": "text/x-python",
   "name": "python",
   "nbconvert_exporter": "python",
   "pygments_lexer": "ipython2",
   "version": "2.7.14"
  }
 },
 "nbformat": 4,
 "nbformat_minor": 2
}
